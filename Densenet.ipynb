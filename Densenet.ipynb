{
  "nbformat": 4,
  "nbformat_minor": 0,
  "metadata": {
    "colab": {
      "name": "Densenet.ipynb",
      "provenance": [],
      "collapsed_sections": []
    },
    "kernelspec": {
      "name": "python3",
      "display_name": "Python 3"
    },
    "language_info": {
      "name": "python"
    },
    "accelerator": "GPU",
    "widgets": {
      "application/vnd.jupyter.widget-state+json": {
        "1304267228e144f39a319c303c5b7442": {
          "model_module": "@jupyter-widgets/controls",
          "model_name": "HBoxModel",
          "model_module_version": "1.5.0",
          "state": {
            "_dom_classes": [],
            "_model_module": "@jupyter-widgets/controls",
            "_model_module_version": "1.5.0",
            "_model_name": "HBoxModel",
            "_view_count": null,
            "_view_module": "@jupyter-widgets/controls",
            "_view_module_version": "1.5.0",
            "_view_name": "HBoxView",
            "box_style": "",
            "children": [
              "IPY_MODEL_0e629aacd76b40a69659bbdce7f5e14a",
              "IPY_MODEL_5a329a43d2b34746915a216110f685ee",
              "IPY_MODEL_22ea5dc679b34238b3a37469396eb8b7"
            ],
            "layout": "IPY_MODEL_a8d7aad2476e457fb90e3cb2a4c1cb9d"
          }
        },
        "0e629aacd76b40a69659bbdce7f5e14a": {
          "model_module": "@jupyter-widgets/controls",
          "model_name": "HTMLModel",
          "model_module_version": "1.5.0",
          "state": {
            "_dom_classes": [],
            "_model_module": "@jupyter-widgets/controls",
            "_model_module_version": "1.5.0",
            "_model_name": "HTMLModel",
            "_view_count": null,
            "_view_module": "@jupyter-widgets/controls",
            "_view_module_version": "1.5.0",
            "_view_name": "HTMLView",
            "description": "",
            "description_tooltip": null,
            "layout": "IPY_MODEL_8f41f47d3e614ab1ad8ed282dc39e2db",
            "placeholder": "​",
            "style": "IPY_MODEL_00769ab41b344e5b9fdc81e0e3e1bc5b",
            "value": ""
          }
        },
        "5a329a43d2b34746915a216110f685ee": {
          "model_module": "@jupyter-widgets/controls",
          "model_name": "FloatProgressModel",
          "model_module_version": "1.5.0",
          "state": {
            "_dom_classes": [],
            "_model_module": "@jupyter-widgets/controls",
            "_model_module_version": "1.5.0",
            "_model_name": "FloatProgressModel",
            "_view_count": null,
            "_view_module": "@jupyter-widgets/controls",
            "_view_module_version": "1.5.0",
            "_view_name": "ProgressView",
            "bar_style": "success",
            "description": "",
            "description_tooltip": null,
            "layout": "IPY_MODEL_802a311f6ff64748bc426c03a2f15f92",
            "max": 170498071,
            "min": 0,
            "orientation": "horizontal",
            "style": "IPY_MODEL_9bdb71e910794f4da08c860ec2648eea",
            "value": 170498071
          }
        },
        "22ea5dc679b34238b3a37469396eb8b7": {
          "model_module": "@jupyter-widgets/controls",
          "model_name": "HTMLModel",
          "model_module_version": "1.5.0",
          "state": {
            "_dom_classes": [],
            "_model_module": "@jupyter-widgets/controls",
            "_model_module_version": "1.5.0",
            "_model_name": "HTMLModel",
            "_view_count": null,
            "_view_module": "@jupyter-widgets/controls",
            "_view_module_version": "1.5.0",
            "_view_name": "HTMLView",
            "description": "",
            "description_tooltip": null,
            "layout": "IPY_MODEL_8927f57b0f0e414f8b36b14b0142cab2",
            "placeholder": "​",
            "style": "IPY_MODEL_2ca9ab6530194d1b9e6160b8dd438f4e",
            "value": " 170499072/? [00:03&lt;00:00, 54848108.31it/s]"
          }
        },
        "a8d7aad2476e457fb90e3cb2a4c1cb9d": {
          "model_module": "@jupyter-widgets/base",
          "model_name": "LayoutModel",
          "model_module_version": "1.2.0",
          "state": {
            "_model_module": "@jupyter-widgets/base",
            "_model_module_version": "1.2.0",
            "_model_name": "LayoutModel",
            "_view_count": null,
            "_view_module": "@jupyter-widgets/base",
            "_view_module_version": "1.2.0",
            "_view_name": "LayoutView",
            "align_content": null,
            "align_items": null,
            "align_self": null,
            "border": null,
            "bottom": null,
            "display": null,
            "flex": null,
            "flex_flow": null,
            "grid_area": null,
            "grid_auto_columns": null,
            "grid_auto_flow": null,
            "grid_auto_rows": null,
            "grid_column": null,
            "grid_gap": null,
            "grid_row": null,
            "grid_template_areas": null,
            "grid_template_columns": null,
            "grid_template_rows": null,
            "height": null,
            "justify_content": null,
            "justify_items": null,
            "left": null,
            "margin": null,
            "max_height": null,
            "max_width": null,
            "min_height": null,
            "min_width": null,
            "object_fit": null,
            "object_position": null,
            "order": null,
            "overflow": null,
            "overflow_x": null,
            "overflow_y": null,
            "padding": null,
            "right": null,
            "top": null,
            "visibility": null,
            "width": null
          }
        },
        "8f41f47d3e614ab1ad8ed282dc39e2db": {
          "model_module": "@jupyter-widgets/base",
          "model_name": "LayoutModel",
          "model_module_version": "1.2.0",
          "state": {
            "_model_module": "@jupyter-widgets/base",
            "_model_module_version": "1.2.0",
            "_model_name": "LayoutModel",
            "_view_count": null,
            "_view_module": "@jupyter-widgets/base",
            "_view_module_version": "1.2.0",
            "_view_name": "LayoutView",
            "align_content": null,
            "align_items": null,
            "align_self": null,
            "border": null,
            "bottom": null,
            "display": null,
            "flex": null,
            "flex_flow": null,
            "grid_area": null,
            "grid_auto_columns": null,
            "grid_auto_flow": null,
            "grid_auto_rows": null,
            "grid_column": null,
            "grid_gap": null,
            "grid_row": null,
            "grid_template_areas": null,
            "grid_template_columns": null,
            "grid_template_rows": null,
            "height": null,
            "justify_content": null,
            "justify_items": null,
            "left": null,
            "margin": null,
            "max_height": null,
            "max_width": null,
            "min_height": null,
            "min_width": null,
            "object_fit": null,
            "object_position": null,
            "order": null,
            "overflow": null,
            "overflow_x": null,
            "overflow_y": null,
            "padding": null,
            "right": null,
            "top": null,
            "visibility": null,
            "width": null
          }
        },
        "00769ab41b344e5b9fdc81e0e3e1bc5b": {
          "model_module": "@jupyter-widgets/controls",
          "model_name": "DescriptionStyleModel",
          "model_module_version": "1.5.0",
          "state": {
            "_model_module": "@jupyter-widgets/controls",
            "_model_module_version": "1.5.0",
            "_model_name": "DescriptionStyleModel",
            "_view_count": null,
            "_view_module": "@jupyter-widgets/base",
            "_view_module_version": "1.2.0",
            "_view_name": "StyleView",
            "description_width": ""
          }
        },
        "802a311f6ff64748bc426c03a2f15f92": {
          "model_module": "@jupyter-widgets/base",
          "model_name": "LayoutModel",
          "model_module_version": "1.2.0",
          "state": {
            "_model_module": "@jupyter-widgets/base",
            "_model_module_version": "1.2.0",
            "_model_name": "LayoutModel",
            "_view_count": null,
            "_view_module": "@jupyter-widgets/base",
            "_view_module_version": "1.2.0",
            "_view_name": "LayoutView",
            "align_content": null,
            "align_items": null,
            "align_self": null,
            "border": null,
            "bottom": null,
            "display": null,
            "flex": null,
            "flex_flow": null,
            "grid_area": null,
            "grid_auto_columns": null,
            "grid_auto_flow": null,
            "grid_auto_rows": null,
            "grid_column": null,
            "grid_gap": null,
            "grid_row": null,
            "grid_template_areas": null,
            "grid_template_columns": null,
            "grid_template_rows": null,
            "height": null,
            "justify_content": null,
            "justify_items": null,
            "left": null,
            "margin": null,
            "max_height": null,
            "max_width": null,
            "min_height": null,
            "min_width": null,
            "object_fit": null,
            "object_position": null,
            "order": null,
            "overflow": null,
            "overflow_x": null,
            "overflow_y": null,
            "padding": null,
            "right": null,
            "top": null,
            "visibility": null,
            "width": null
          }
        },
        "9bdb71e910794f4da08c860ec2648eea": {
          "model_module": "@jupyter-widgets/controls",
          "model_name": "ProgressStyleModel",
          "model_module_version": "1.5.0",
          "state": {
            "_model_module": "@jupyter-widgets/controls",
            "_model_module_version": "1.5.0",
            "_model_name": "ProgressStyleModel",
            "_view_count": null,
            "_view_module": "@jupyter-widgets/base",
            "_view_module_version": "1.2.0",
            "_view_name": "StyleView",
            "bar_color": null,
            "description_width": ""
          }
        },
        "8927f57b0f0e414f8b36b14b0142cab2": {
          "model_module": "@jupyter-widgets/base",
          "model_name": "LayoutModel",
          "model_module_version": "1.2.0",
          "state": {
            "_model_module": "@jupyter-widgets/base",
            "_model_module_version": "1.2.0",
            "_model_name": "LayoutModel",
            "_view_count": null,
            "_view_module": "@jupyter-widgets/base",
            "_view_module_version": "1.2.0",
            "_view_name": "LayoutView",
            "align_content": null,
            "align_items": null,
            "align_self": null,
            "border": null,
            "bottom": null,
            "display": null,
            "flex": null,
            "flex_flow": null,
            "grid_area": null,
            "grid_auto_columns": null,
            "grid_auto_flow": null,
            "grid_auto_rows": null,
            "grid_column": null,
            "grid_gap": null,
            "grid_row": null,
            "grid_template_areas": null,
            "grid_template_columns": null,
            "grid_template_rows": null,
            "height": null,
            "justify_content": null,
            "justify_items": null,
            "left": null,
            "margin": null,
            "max_height": null,
            "max_width": null,
            "min_height": null,
            "min_width": null,
            "object_fit": null,
            "object_position": null,
            "order": null,
            "overflow": null,
            "overflow_x": null,
            "overflow_y": null,
            "padding": null,
            "right": null,
            "top": null,
            "visibility": null,
            "width": null
          }
        },
        "2ca9ab6530194d1b9e6160b8dd438f4e": {
          "model_module": "@jupyter-widgets/controls",
          "model_name": "DescriptionStyleModel",
          "model_module_version": "1.5.0",
          "state": {
            "_model_module": "@jupyter-widgets/controls",
            "_model_module_version": "1.5.0",
            "_model_name": "DescriptionStyleModel",
            "_view_count": null,
            "_view_module": "@jupyter-widgets/base",
            "_view_module_version": "1.2.0",
            "_view_name": "StyleView",
            "description_width": ""
          }
        }
      }
    }
  },
  "cells": [
    {
      "cell_type": "code",
      "execution_count": null,
      "metadata": {
        "colab": {
          "base_uri": "https://localhost:8080/",
          "height": 35
        },
        "id": "kkHhQuv-S-_t",
        "outputId": "365ad967-c4e2-4da7-f731-799bd370c0e8"
      },
      "outputs": [
        {
          "output_type": "execute_result",
          "data": {
            "text/plain": [
              "'1.10.0+cu111'"
            ],
            "application/vnd.google.colaboratory.intrinsic+json": {
              "type": "string"
            }
          },
          "metadata": {},
          "execution_count": 1
        }
      ],
      "source": [
        "import torch\n",
        "import torch.nn as nn\n",
        "import torchvision\n",
        "import torchvision.datasets as datasets\n",
        "import torchvision.transforms as transforms\n",
        "import torch.nn.functional as F\n",
        "from torchsummary import summary\n",
        "torch.__version__"
      ]
    },
    {
      "cell_type": "code",
      "source": [
        "transform = transforms.Compose([\n",
        "#     transforms.CenterCrop(224),\n",
        "\n",
        "    transforms.RandomCrop(32,padding=4), \n",
        "    transforms.RandomHorizontalFlip(),  \n",
        "    transforms.Normalize((0.5, 0.5, 0.5), (0.5, 0.5, 0.5))\n",
        "]) "
      ],
      "metadata": {
        "id": "cfPcEnvLTIvp"
      },
      "execution_count": null,
      "outputs": []
    },
    {
      "cell_type": "code",
      "source": [
        "Batch_Size = 128"
      ],
      "metadata": {
        "id": "ptzc5JtoTSeA"
      },
      "execution_count": null,
      "outputs": []
    },
    {
      "cell_type": "markdown",
      "source": [
        "Part 1: Load Data"
      ],
      "metadata": {
        "id": "FPtZTmaIT8mm"
      }
    },
    {
      "cell_type": "code",
      "source": [
        "trainset = datasets.CIFAR10(root='./data', train=True,download=True, transform=transform)\n",
        "testset = datasets.CIFAR10(root='./data',train=False,download=True,transform=transform)\n",
        "trainloader = torch.utils.data.DataLoader(trainset, batch_size=Batch_Size,shuffle=True, num_workers=8)\n",
        "testloader = torch.utils.data.DataLoader(testset, batch_size=Batch_Size,shuffle=True, num_workers=8)\n",
        "classes = ('plane', 'car', 'bird', 'cat','deer', 'dog', 'frog', 'horse', 'ship', 'truck')"
      ],
      "metadata": {
        "colab": {
          "base_uri": "https://localhost:8080/",
          "height": 158,
          "referenced_widgets": [
            "1304267228e144f39a319c303c5b7442",
            "0e629aacd76b40a69659bbdce7f5e14a",
            "5a329a43d2b34746915a216110f685ee",
            "22ea5dc679b34238b3a37469396eb8b7",
            "a8d7aad2476e457fb90e3cb2a4c1cb9d",
            "8f41f47d3e614ab1ad8ed282dc39e2db",
            "00769ab41b344e5b9fdc81e0e3e1bc5b",
            "802a311f6ff64748bc426c03a2f15f92",
            "9bdb71e910794f4da08c860ec2648eea",
            "8927f57b0f0e414f8b36b14b0142cab2",
            "2ca9ab6530194d1b9e6160b8dd438f4e"
          ]
        },
        "id": "Xat8G6goTWOm",
        "outputId": "31836fbb-a3dd-4e37-90c9-bd69b3e28e9d"
      },
      "execution_count": null,
      "outputs": [
        {
          "output_type": "stream",
          "name": "stdout",
          "text": [
            "Downloading https://www.cs.toronto.edu/~kriz/cifar-10-python.tar.gz to ./data/cifar-10-python.tar.gz\n"
          ]
        },
        {
          "output_type": "display_data",
          "data": {
            "text/plain": [
              "  0%|          | 0/170498071 [00:00<?, ?it/s]"
            ],
            "application/vnd.jupyter.widget-view+json": {
              "version_major": 2,
              "version_minor": 0,
              "model_id": "1304267228e144f39a319c303c5b7442"
            }
          },
          "metadata": {}
        },
        {
          "output_type": "stream",
          "name": "stdout",
          "text": [
            "Extracting ./data/cifar-10-python.tar.gz to ./data\n",
            "Files already downloaded and verified\n"
          ]
        },
        {
          "output_type": "stream",
          "name": "stderr",
          "text": [
            "/usr/local/lib/python3.7/dist-packages/torch/utils/data/dataloader.py:481: UserWarning: This DataLoader will create 8 worker processes in total. Our suggested max number of worker in current system is 2, which is smaller than what this DataLoader is going to create. Please be aware that excessive worker creation might get DataLoader running slow or even freeze, lower the worker number to avoid potential slowness/freeze if necessary.\n",
            "  cpuset_checked))\n"
          ]
        }
      ]
    },
    {
      "cell_type": "code",
      "source": [
        "classes = trainset.classes\n",
        "classes"
      ],
      "metadata": {
        "colab": {
          "base_uri": "https://localhost:8080/"
        },
        "id": "tAyUCeAJTZGr",
        "outputId": "ecbf9dc4-437c-4614-d3cf-b52c1dc3a11b"
      },
      "execution_count": null,
      "outputs": [
        {
          "output_type": "execute_result",
          "data": {
            "text/plain": [
              "['airplane',\n",
              " 'automobile',\n",
              " 'bird',\n",
              " 'cat',\n",
              " 'deer',\n",
              " 'dog',\n",
              " 'frog',\n",
              " 'horse',\n",
              " 'ship',\n",
              " 'truck']"
            ]
          },
          "metadata": {},
          "execution_count": 5
        }
      ]
    },
    {
      "cell_type": "code",
      "source": [
        "trainset.class_to_idx"
      ],
      "metadata": {
        "colab": {
          "base_uri": "https://localhost:8080/"
        },
        "id": "rLJWY9bBUJwI",
        "outputId": "35a45cde-adde-4bbe-bac4-d7da148dbdfd"
      },
      "execution_count": null,
      "outputs": [
        {
          "output_type": "execute_result",
          "data": {
            "text/plain": [
              "{'airplane': 0,\n",
              " 'automobile': 1,\n",
              " 'bird': 2,\n",
              " 'cat': 3,\n",
              " 'deer': 4,\n",
              " 'dog': 5,\n",
              " 'frog': 6,\n",
              " 'horse': 7,\n",
              " 'ship': 8,\n",
              " 'truck': 9}"
            ]
          },
          "metadata": {},
          "execution_count": 6
        }
      ]
    },
    {
      "cell_type": "code",
      "source": [
        "trainset.data.shape"
      ],
      "metadata": {
        "colab": {
          "base_uri": "https://localhost:8080/"
        },
        "id": "uIz9sfESUMW3",
        "outputId": "f9502a0b-4fd3-4d18-f0f2-a9310a112718"
      },
      "execution_count": null,
      "outputs": [
        {
          "output_type": "execute_result",
          "data": {
            "text/plain": [
              "(50000, 32, 32, 3)"
            ]
          },
          "metadata": {},
          "execution_count": 7
        }
      ]
    },
    {
      "cell_type": "code",
      "source": [
        "print(type(trainset.data))\n",
        "print(type(trainset))"
      ],
      "metadata": {
        "colab": {
          "base_uri": "https://localhost:8080/"
        },
        "id": "A7_xxvN9UPIf",
        "outputId": "68ef8e2b-28e6-4d39-eaa6-1f4e056ef2ac"
      },
      "execution_count": null,
      "outputs": [
        {
          "output_type": "stream",
          "name": "stdout",
          "text": [
            "<class 'numpy.ndarray'>\n",
            "<class 'torchvision.datasets.cifar.CIFAR10'>\n"
          ]
        }
      ]
    },
    {
      "cell_type": "code",
      "source": [
        "import numpy as np\n",
        "import matplotlib.pyplot as plt\n",
        "plt.imshow(trainset.data[0])\n",
        "im,label = iter(trainloader).next()"
      ],
      "metadata": {
        "colab": {
          "base_uri": "https://localhost:8080/",
          "height": 321
        },
        "id": "aa4xcK5hUQ-C",
        "outputId": "d56a7411-eac7-4e42-f5a2-8e52d7e1bd0e"
      },
      "execution_count": null,
      "outputs": [
        {
          "output_type": "stream",
          "name": "stderr",
          "text": [
            "/usr/local/lib/python3.7/dist-packages/torch/utils/data/dataloader.py:481: UserWarning: This DataLoader will create 8 worker processes in total. Our suggested max number of worker in current system is 2, which is smaller than what this DataLoader is going to create. Please be aware that excessive worker creation might get DataLoader running slow or even freeze, lower the worker number to avoid potential slowness/freeze if necessary.\n",
            "  cpuset_checked))\n"
          ]
        },
        {
          "output_type": "display_data",
          "data": {
            "text/plain": [
              "<Figure size 432x288 with 1 Axes>"
            ],
            "image/png": "[encoded data removed]"
          },
          "metadata": {
            "needs_background": "light"
          }
        }
      ]
    },
    {
      "cell_type": "code",
      "source": [
        "def imshow(img):\n",
        "    img = img / 2 + 0.5\n",
        "    img = np.transpose(img.numpy(),(1,2,0))\n",
        "    plt.imshow(img)\n",
        "imshow(im[0])"
      ],
      "metadata": {
        "colab": {
          "base_uri": "https://localhost:8080/",
          "height": 266
        },
        "id": "QV7fkBRWUXDm",
        "outputId": "a39ea318-5e96-42fa-9f13-d1e36befc9c0"
      },
      "execution_count": null,
      "outputs": [
        {
          "output_type": "display_data",
          "data": {
            "text/plain": [
              "<Figure size 432x288 with 1 Axes>"
            ],
            "image/png": "[encoded data removed]"
          },
          "metadata": {
            "needs_background": "light"
          }
        }
      ]
    },
    {
      "cell_type": "code",
      "source": [
        "im[0].shape"
      ],
      "metadata": {
        "colab": {
          "base_uri": "https://localhost:8080/"
        },
        "id": "Icf8dr6NUpF3",
        "outputId": "35ac402d-8552-490b-fbd9-040c0762a193"
      },
      "execution_count": null,
      "outputs": [
        {
          "output_type": "execute_result",
          "data": {
            "text/plain": [
              "torch.Size([3, 32, 32])"
            ]
          },
          "metadata": {},
          "execution_count": 12
        }
      ]
    },
    {
      "cell_type": "code",
      "source": [
        "plt.figure(figsize=(8,12))\n",
        "imshow(torchvision.utils.make_grid(im[:32]))"
      ],
      "metadata": {
        "colab": {
          "base_uri": "https://localhost:8080/",
          "height": 276
        },
        "id": "31s-niTJU3Fz",
        "outputId": "0cbe1685-e4e5-47c8-f656-999ca6f4de7e"
      },
      "execution_count": null,
      "outputs": [
        {
          "output_type": "display_data",
          "data": {
            "text/plain": [
              "<Figure size 576x864 with 1 Axes>"
            ],
            "image/png": "[encoded data removed]"
          },
          "metadata": {
            "needs_background": "light"
          }
        }
      ]
    },
    {
      "cell_type": "markdown",
      "source": [
        "Part 2: DenseNet"
      ],
      "metadata": {
        "id": "hHnMyiZiVClS"
      }
    },
    {
      "cell_type": "code",
      "source": [
        "device = 'cuda' if torch.cuda.is_available() else 'cpu' \n",
        "device"
      ],
      "metadata": {
        "colab": {
          "base_uri": "https://localhost:8080/",
          "height": 35
        },
        "id": "42POO77rU513",
        "outputId": "cef17693-aa00-4956-8670-c78bc8fa089f"
      },
      "execution_count": null,
      "outputs": [
        {
          "output_type": "execute_result",
          "data": {
            "text/plain": [
              "'cuda'"
            ],
            "application/vnd.google.colaboratory.intrinsic+json": {
              "type": "string"
            }
          },
          "metadata": {},
          "execution_count": 14
        }
      ]
    },
    {
      "cell_type": "code",
      "source": [
        "class Bottleneck(nn.Module):\n",
        "    \n",
        "    expansion = 4\n",
        "    \n",
        "    def __init__(self, in_channels, growth_rate):\n",
        "        super(Bottleneck, self).__init__()\n",
        "        zip_channels = self.expansion * growth_rate\n",
        "        self.features = nn.Sequential(\n",
        "            nn.BatchNorm2d(in_channels),\n",
        "            nn.ReLU(True),\n",
        "            nn.Conv2d(in_channels, zip_channels, kernel_size=1, bias=False),\n",
        "            nn.BatchNorm2d(zip_channels),\n",
        "            nn.ReLU(True),\n",
        "            nn.Conv2d(zip_channels, growth_rate, kernel_size=3, padding=1, bias=False)\n",
        "        )\n",
        "        \n",
        "    def forward(self, x):\n",
        "        out = self.features(x)\n",
        "        out = torch.cat([out, x], 1)\n",
        "        return out        "
      ],
      "metadata": {
        "id": "AZ-bvs-2VSxw"
      },
      "execution_count": null,
      "outputs": []
    },
    {
      "cell_type": "code",
      "source": [
        "test_net = Bottleneck(3, 5)\n",
        "test_x = torch.zeros(1, 3, 32, 32)\n",
        "print('input shape: {} x {} x {}'.format(test_x.shape[1], test_x.shape[2], test_x.shape[3]))\n",
        "test_y = test_net(test_x)\n",
        "print('output shape: {} x {} x {}'.format(test_y.shape[1], test_y.shape[2], test_y.shape[3]))"
      ],
      "metadata": {
        "colab": {
          "base_uri": "https://localhost:8080/"
        },
        "id": "-I2499MoVaG6",
        "outputId": "b1548623-8283-4c11-e1cc-ad654d491a5e"
      },
      "execution_count": null,
      "outputs": [
        {
          "output_type": "stream",
          "name": "stdout",
          "text": [
            "input shape: 3 x 32 x 32\n",
            "output shape: 8 x 32 x 32\n"
          ]
        }
      ]
    },
    {
      "cell_type": "code",
      "source": [
        "class Transition(nn.Module):\n",
        "    \"\"\"\n",
        "    改变维数的Transition层 具体包括BN、ReLU、1×1卷积（Conv）、2×2平均池化操作\n",
        "    先通过1x1的卷积层减少channels，再通过2x2的平均池化层缩小feature-map\n",
        "    \"\"\"\n",
        "    # 1×1卷积的作用是降维，起到压缩模型的作用，而平均池化则是降低特征图的尺寸。\n",
        "    def __init__(self, in_channels, out_channels):\n",
        "        super(Transition, self).__init__()\n",
        "        self.features = nn.Sequential(\n",
        "            nn.BatchNorm2d(in_channels),\n",
        "            nn.ReLU(True),\n",
        "            nn.Conv2d(in_channels, out_channels, kernel_size=1, bias=False),\n",
        "            nn.AvgPool2d(2)\n",
        "        )\n",
        "        \n",
        "    def forward(self, x):\n",
        "        out = self.features(x)\n",
        "        return out"
      ],
      "metadata": {
        "id": "SYqCyvmGVcTi"
      },
      "execution_count": null,
      "outputs": []
    },
    {
      "cell_type": "code",
      "source": [
        "test_net = Transition(3, 12)\n",
        "test_x = torch.zeros(1, 3, 96, 96)\n",
        "print('input shape: {} x {} x {}'.format(test_x.shape[1], test_x.shape[2], test_x.shape[3]))\n",
        "test_y = test_net(test_x)\n",
        "print('output shape: {} x {} x {}'.format(test_y.shape[1], test_y.shape[2], test_y.shape[3]))"
      ],
      "metadata": {
        "colab": {
          "base_uri": "https://localhost:8080/"
        },
        "id": "0hVVgvfsVfUi",
        "outputId": "289d1ba1-1062-4b32-8335-5afec89abbdb"
      },
      "execution_count": null,
      "outputs": [
        {
          "output_type": "stream",
          "name": "stdout",
          "text": [
            "input shape: 3 x 96 x 96\n",
            "output shape: 12 x 48 x 48\n"
          ]
        }
      ]
    },
    {
      "cell_type": "code",
      "source": [
        "import math\n",
        "class DenseNet(nn.Module):\n",
        "    \n",
        "    def __init__(self, num_blocks, growth_rate=12, reduction=0.5, num_classes=10):\n",
        "        super(DenseNet, self).__init__()\n",
        "        self.growth_rate = growth_rate\n",
        "        self.reduction = reduction\n",
        "        \n",
        "        num_channels = 2 * growth_rate\n",
        "        \n",
        "        self.features = nn.Conv2d(3, num_channels, kernel_size=3, padding=1, bias=False)\n",
        "        self.layer1, num_channels = self._make_dense_layer(num_channels, num_blocks[0])\n",
        "        self.layer2, num_channels = self._make_dense_layer(num_channels, num_blocks[1])\n",
        "        self.layer3, num_channels = self._make_dense_layer(num_channels, num_blocks[2])\n",
        "        self.layer4, num_channels = self._make_dense_layer(num_channels, num_blocks[3], transition=False)\n",
        "        self.avg_pool = nn.Sequential(\n",
        "            nn.BatchNorm2d(num_channels),\n",
        "            nn.ReLU(True),\n",
        "            nn.AvgPool2d(4),\n",
        "        )\n",
        "        self.classifier = nn.Linear(num_channels, num_classes)\n",
        "        \n",
        "        self._initialize_weight()\n",
        "        \n",
        "    def _make_dense_layer(self, in_channels, nblock, transition=True):\n",
        "        layers = []\n",
        "        for i in range(nblock):\n",
        "            layers += [Bottleneck(in_channels, self.growth_rate)]\n",
        "            in_channels += self.growth_rate\n",
        "        out_channels = in_channels\n",
        "        if transition:\n",
        "            out_channels = int(math.floor(in_channels * self.reduction))\n",
        "            layers += [Transition(in_channels, out_channels)]\n",
        "        return nn.Sequential(*layers), out_channels\n",
        "    \n",
        "    def _initialize_weight(self):\n",
        "        for m in self.modules():\n",
        "            if isinstance(m, nn.Conv2d):\n",
        "                nn.init.kaiming_normal_(m.weight.data)\n",
        "                if m.bias is not None:\n",
        "                    m.bias.data.zero_()\n",
        "    \n",
        "    def forward(self, x):\n",
        "        out = self.features(x)\n",
        "        out = self.layer1(out)\n",
        "        out = self.layer2(out)\n",
        "        out = self.layer3(out)\n",
        "        out = self.layer4(out)\n",
        "        out = self.avg_pool(out)\n",
        "        out = out.view(out.size(0), -1)\n",
        "        out = self.classifier(out)\n",
        "        return out"
      ],
      "metadata": {
        "id": "-x0FYVxGViKC"
      },
      "execution_count": null,
      "outputs": []
    },
    {
      "cell_type": "code",
      "source": [
        "def DenseNet121():\n",
        "    return DenseNet([6,12,24,16], growth_rate=32)\n",
        "\n",
        "def DenseNet169():\n",
        "    return DenseNet([6,12,32,32], growth_rate=32)\n",
        "\n",
        "def DenseNet201():\n",
        "    return DenseNet([6,12,48,32], growth_rate=32)\n",
        "\n",
        "def DenseNet161():\n",
        "    return DenseNet([6,12,36,24], growth_rate=48)\n",
        "\n",
        "def densenet_cifar():\n",
        "    return DenseNet([6,12,24,16], growth_rate=12)\n",
        "\n",
        "net = DenseNet121().to(device)\n",
        "summary(net,(3,32,32))"
      ],
      "metadata": {
        "colab": {
          "base_uri": "https://localhost:8080/"
        },
        "id": "kO12NEQAVo0T",
        "outputId": "dfcc4f32-59f4-4218-e00c-1480af41be11"
      },
      "execution_count": null,
      "outputs": [
        {
          "output_type": "stream",
          "name": "stdout",
          "text": [
            "----------------------------------------------------------------\n",
            "        Layer (type)               Output Shape         Param #\n",
            "================================================================\n",
            "            Conv2d-1           [-1, 64, 32, 32]           1,728\n",
            "       BatchNorm2d-2           [-1, 64, 32, 32]             128\n",
            "              ReLU-3           [-1, 64, 32, 32]               0\n",
            "            Conv2d-4          [-1, 128, 32, 32]           8,192\n",
            "       BatchNorm2d-5          [-1, 128, 32, 32]             256\n",
            "              ReLU-6          [-1, 128, 32, 32]               0\n",
            "            Conv2d-7           [-1, 32, 32, 32]          36,864\n",
            "        Bottleneck-8           [-1, 96, 32, 32]               0\n",
            "       BatchNorm2d-9           [-1, 96, 32, 32]             192\n",
            "             ReLU-10           [-1, 96, 32, 32]               0\n",
            "           Conv2d-11          [-1, 128, 32, 32]          12,288\n",
            "      BatchNorm2d-12          [-1, 128, 32, 32]             256\n",
            "             ReLU-13          [-1, 128, 32, 32]               0\n",
            "           Conv2d-14           [-1, 32, 32, 32]          36,864\n",
            "       Bottleneck-15          [-1, 128, 32, 32]               0\n",
            "      BatchNorm2d-16          [-1, 128, 32, 32]             256\n",
            "             ReLU-17          [-1, 128, 32, 32]               0\n",
            "           Conv2d-18          [-1, 128, 32, 32]          16,384\n",
            "      BatchNorm2d-19          [-1, 128, 32, 32]             256\n",
            "             ReLU-20          [-1, 128, 32, 32]               0\n",
            "           Conv2d-21           [-1, 32, 32, 32]          36,864\n",
            "       Bottleneck-22          [-1, 160, 32, 32]               0\n",
            "      BatchNorm2d-23          [-1, 160, 32, 32]             320\n",
            "             ReLU-24          [-1, 160, 32, 32]               0\n",
            "           Conv2d-25          [-1, 128, 32, 32]          20,480\n",
            "      BatchNorm2d-26          [-1, 128, 32, 32]             256\n",
            "             ReLU-27          [-1, 128, 32, 32]               0\n",
            "           Conv2d-28           [-1, 32, 32, 32]          36,864\n",
            "       Bottleneck-29          [-1, 192, 32, 32]               0\n",
            "      BatchNorm2d-30          [-1, 192, 32, 32]             384\n",
            "             ReLU-31          [-1, 192, 32, 32]               0\n",
            "           Conv2d-32          [-1, 128, 32, 32]          24,576\n",
            "      BatchNorm2d-33          [-1, 128, 32, 32]             256\n",
            "             ReLU-34          [-1, 128, 32, 32]               0\n",
            "           Conv2d-35           [-1, 32, 32, 32]          36,864\n",
            "       Bottleneck-36          [-1, 224, 32, 32]               0\n",
            "      BatchNorm2d-37          [-1, 224, 32, 32]             448\n",
            "             ReLU-38          [-1, 224, 32, 32]               0\n",
            "           Conv2d-39          [-1, 128, 32, 32]          28,672\n",
            "      BatchNorm2d-40          [-1, 128, 32, 32]             256\n",
            "             ReLU-41          [-1, 128, 32, 32]               0\n",
            "           Conv2d-42           [-1, 32, 32, 32]          36,864\n",
            "       Bottleneck-43          [-1, 256, 32, 32]               0\n",
            "      BatchNorm2d-44          [-1, 256, 32, 32]             512\n",
            "             ReLU-45          [-1, 256, 32, 32]               0\n",
            "           Conv2d-46          [-1, 128, 32, 32]          32,768\n",
            "        AvgPool2d-47          [-1, 128, 16, 16]               0\n",
            "       Transition-48          [-1, 128, 16, 16]               0\n",
            "      BatchNorm2d-49          [-1, 128, 16, 16]             256\n",
            "             ReLU-50          [-1, 128, 16, 16]               0\n",
            "           Conv2d-51          [-1, 128, 16, 16]          16,384\n",
            "      BatchNorm2d-52          [-1, 128, 16, 16]             256\n",
            "             ReLU-53          [-1, 128, 16, 16]               0\n",
            "           Conv2d-54           [-1, 32, 16, 16]          36,864\n",
            "       Bottleneck-55          [-1, 160, 16, 16]               0\n",
            "      BatchNorm2d-56          [-1, 160, 16, 16]             320\n",
            "             ReLU-57          [-1, 160, 16, 16]               0\n",
            "           Conv2d-58          [-1, 128, 16, 16]          20,480\n",
            "      BatchNorm2d-59          [-1, 128, 16, 16]             256\n",
            "             ReLU-60          [-1, 128, 16, 16]               0\n",
            "           Conv2d-61           [-1, 32, 16, 16]          36,864\n",
            "       Bottleneck-62          [-1, 192, 16, 16]               0\n",
            "      BatchNorm2d-63          [-1, 192, 16, 16]             384\n",
            "             ReLU-64          [-1, 192, 16, 16]               0\n",
            "           Conv2d-65          [-1, 128, 16, 16]          24,576\n",
            "      BatchNorm2d-66          [-1, 128, 16, 16]             256\n",
            "             ReLU-67          [-1, 128, 16, 16]               0\n",
            "           Conv2d-68           [-1, 32, 16, 16]          36,864\n",
            "       Bottleneck-69          [-1, 224, 16, 16]               0\n",
            "      BatchNorm2d-70          [-1, 224, 16, 16]             448\n",
            "             ReLU-71          [-1, 224, 16, 16]               0\n",
            "           Conv2d-72          [-1, 128, 16, 16]          28,672\n",
            "      BatchNorm2d-73          [-1, 128, 16, 16]             256\n",
            "             ReLU-74          [-1, 128, 16, 16]               0\n",
            "           Conv2d-75           [-1, 32, 16, 16]          36,864\n",
            "       Bottleneck-76          [-1, 256, 16, 16]               0\n",
            "      BatchNorm2d-77          [-1, 256, 16, 16]             512\n",
            "             ReLU-78          [-1, 256, 16, 16]               0\n",
            "           Conv2d-79          [-1, 128, 16, 16]          32,768\n",
            "      BatchNorm2d-80          [-1, 128, 16, 16]             256\n",
            "             ReLU-81          [-1, 128, 16, 16]               0\n",
            "           Conv2d-82           [-1, 32, 16, 16]          36,864\n",
            "       Bottleneck-83          [-1, 288, 16, 16]               0\n",
            "      BatchNorm2d-84          [-1, 288, 16, 16]             576\n",
            "             ReLU-85          [-1, 288, 16, 16]               0\n",
            "           Conv2d-86          [-1, 128, 16, 16]          36,864\n",
            "      BatchNorm2d-87          [-1, 128, 16, 16]             256\n",
            "             ReLU-88          [-1, 128, 16, 16]               0\n",
            "           Conv2d-89           [-1, 32, 16, 16]          36,864\n",
            "       Bottleneck-90          [-1, 320, 16, 16]               0\n",
            "      BatchNorm2d-91          [-1, 320, 16, 16]             640\n",
            "             ReLU-92          [-1, 320, 16, 16]               0\n",
            "           Conv2d-93          [-1, 128, 16, 16]          40,960\n",
            "      BatchNorm2d-94          [-1, 128, 16, 16]             256\n",
            "             ReLU-95          [-1, 128, 16, 16]               0\n",
            "           Conv2d-96           [-1, 32, 16, 16]          36,864\n",
            "       Bottleneck-97          [-1, 352, 16, 16]               0\n",
            "      BatchNorm2d-98          [-1, 352, 16, 16]             704\n",
            "             ReLU-99          [-1, 352, 16, 16]               0\n",
            "          Conv2d-100          [-1, 128, 16, 16]          45,056\n",
            "     BatchNorm2d-101          [-1, 128, 16, 16]             256\n",
            "            ReLU-102          [-1, 128, 16, 16]               0\n",
            "          Conv2d-103           [-1, 32, 16, 16]          36,864\n",
            "      Bottleneck-104          [-1, 384, 16, 16]               0\n",
            "     BatchNorm2d-105          [-1, 384, 16, 16]             768\n",
            "            ReLU-106          [-1, 384, 16, 16]               0\n",
            "          Conv2d-107          [-1, 128, 16, 16]          49,152\n",
            "     BatchNorm2d-108          [-1, 128, 16, 16]             256\n",
            "            ReLU-109          [-1, 128, 16, 16]               0\n",
            "          Conv2d-110           [-1, 32, 16, 16]          36,864\n",
            "      Bottleneck-111          [-1, 416, 16, 16]               0\n",
            "     BatchNorm2d-112          [-1, 416, 16, 16]             832\n",
            "            ReLU-113          [-1, 416, 16, 16]               0\n",
            "          Conv2d-114          [-1, 128, 16, 16]          53,248\n",
            "     BatchNorm2d-115          [-1, 128, 16, 16]             256\n",
            "            ReLU-116          [-1, 128, 16, 16]               0\n",
            "          Conv2d-117           [-1, 32, 16, 16]          36,864\n",
            "      Bottleneck-118          [-1, 448, 16, 16]               0\n",
            "     BatchNorm2d-119          [-1, 448, 16, 16]             896\n",
            "            ReLU-120          [-1, 448, 16, 16]               0\n",
            "          Conv2d-121          [-1, 128, 16, 16]          57,344\n",
            "     BatchNorm2d-122          [-1, 128, 16, 16]             256\n",
            "            ReLU-123          [-1, 128, 16, 16]               0\n",
            "          Conv2d-124           [-1, 32, 16, 16]          36,864\n",
            "      Bottleneck-125          [-1, 480, 16, 16]               0\n",
            "     BatchNorm2d-126          [-1, 480, 16, 16]             960\n",
            "            ReLU-127          [-1, 480, 16, 16]               0\n",
            "          Conv2d-128          [-1, 128, 16, 16]          61,440\n",
            "     BatchNorm2d-129          [-1, 128, 16, 16]             256\n",
            "            ReLU-130          [-1, 128, 16, 16]               0\n",
            "          Conv2d-131           [-1, 32, 16, 16]          36,864\n",
            "      Bottleneck-132          [-1, 512, 16, 16]               0\n",
            "     BatchNorm2d-133          [-1, 512, 16, 16]           1,024\n",
            "            ReLU-134          [-1, 512, 16, 16]               0\n",
            "          Conv2d-135          [-1, 256, 16, 16]         131,072\n",
            "       AvgPool2d-136            [-1, 256, 8, 8]               0\n",
            "      Transition-137            [-1, 256, 8, 8]               0\n",
            "     BatchNorm2d-138            [-1, 256, 8, 8]             512\n",
            "            ReLU-139            [-1, 256, 8, 8]               0\n",
            "          Conv2d-140            [-1, 128, 8, 8]          32,768\n",
            "     BatchNorm2d-141            [-1, 128, 8, 8]             256\n",
            "            ReLU-142            [-1, 128, 8, 8]               0\n",
            "          Conv2d-143             [-1, 32, 8, 8]          36,864\n",
            "      Bottleneck-144            [-1, 288, 8, 8]               0\n",
            "     BatchNorm2d-145            [-1, 288, 8, 8]             576\n",
            "            ReLU-146            [-1, 288, 8, 8]               0\n",
            "          Conv2d-147            [-1, 128, 8, 8]          36,864\n",
            "     BatchNorm2d-148            [-1, 128, 8, 8]             256\n",
            "            ReLU-149            [-1, 128, 8, 8]               0\n",
            "          Conv2d-150             [-1, 32, 8, 8]          36,864\n",
            "      Bottleneck-151            [-1, 320, 8, 8]               0\n",
            "     BatchNorm2d-152            [-1, 320, 8, 8]             640\n",
            "            ReLU-153            [-1, 320, 8, 8]               0\n",
            "          Conv2d-154            [-1, 128, 8, 8]          40,960\n",
            "     BatchNorm2d-155            [-1, 128, 8, 8]             256\n",
            "            ReLU-156            [-1, 128, 8, 8]               0\n",
            "          Conv2d-157             [-1, 32, 8, 8]          36,864\n",
            "      Bottleneck-158            [-1, 352, 8, 8]               0\n",
            "     BatchNorm2d-159            [-1, 352, 8, 8]             704\n",
            "            ReLU-160            [-1, 352, 8, 8]               0\n",
            "          Conv2d-161            [-1, 128, 8, 8]          45,056\n",
            "     BatchNorm2d-162            [-1, 128, 8, 8]             256\n",
            "            ReLU-163            [-1, 128, 8, 8]               0\n",
            "          Conv2d-164             [-1, 32, 8, 8]          36,864\n",
            "      Bottleneck-165            [-1, 384, 8, 8]               0\n",
            "     BatchNorm2d-166            [-1, 384, 8, 8]             768\n",
            "            ReLU-167            [-1, 384, 8, 8]               0\n",
            "          Conv2d-168            [-1, 128, 8, 8]          49,152\n",
            "     BatchNorm2d-169            [-1, 128, 8, 8]             256\n",
            "            ReLU-170            [-1, 128, 8, 8]               0\n",
            "          Conv2d-171             [-1, 32, 8, 8]          36,864\n",
            "      Bottleneck-172            [-1, 416, 8, 8]               0\n",
            "     BatchNorm2d-173            [-1, 416, 8, 8]             832\n",
            "            ReLU-174            [-1, 416, 8, 8]               0\n",
            "          Conv2d-175            [-1, 128, 8, 8]          53,248\n",
            "     BatchNorm2d-176            [-1, 128, 8, 8]             256\n",
            "            ReLU-177            [-1, 128, 8, 8]               0\n",
            "          Conv2d-178             [-1, 32, 8, 8]          36,864\n",
            "      Bottleneck-179            [-1, 448, 8, 8]               0\n",
            "     BatchNorm2d-180            [-1, 448, 8, 8]             896\n",
            "            ReLU-181            [-1, 448, 8, 8]               0\n",
            "          Conv2d-182            [-1, 128, 8, 8]          57,344\n",
            "     BatchNorm2d-183            [-1, 128, 8, 8]             256\n",
            "            ReLU-184            [-1, 128, 8, 8]               0\n",
            "          Conv2d-185             [-1, 32, 8, 8]          36,864\n",
            "      Bottleneck-186            [-1, 480, 8, 8]               0\n",
            "     BatchNorm2d-187            [-1, 480, 8, 8]             960\n",
            "            ReLU-188            [-1, 480, 8, 8]               0\n",
            "          Conv2d-189            [-1, 128, 8, 8]          61,440\n",
            "     BatchNorm2d-190            [-1, 128, 8, 8]             256\n",
            "            ReLU-191            [-1, 128, 8, 8]               0\n",
            "          Conv2d-192             [-1, 32, 8, 8]          36,864\n",
            "      Bottleneck-193            [-1, 512, 8, 8]               0\n",
            "     BatchNorm2d-194            [-1, 512, 8, 8]           1,024\n",
            "            ReLU-195            [-1, 512, 8, 8]               0\n",
            "          Conv2d-196            [-1, 128, 8, 8]          65,536\n",
            "     BatchNorm2d-197            [-1, 128, 8, 8]             256\n",
            "            ReLU-198            [-1, 128, 8, 8]               0\n",
            "          Conv2d-199             [-1, 32, 8, 8]          36,864\n",
            "      Bottleneck-200            [-1, 544, 8, 8]               0\n",
            "     BatchNorm2d-201            [-1, 544, 8, 8]           1,088\n",
            "            ReLU-202            [-1, 544, 8, 8]               0\n",
            "          Conv2d-203            [-1, 128, 8, 8]          69,632\n",
            "     BatchNorm2d-204            [-1, 128, 8, 8]             256\n",
            "            ReLU-205            [-1, 128, 8, 8]               0\n",
            "          Conv2d-206             [-1, 32, 8, 8]          36,864\n",
            "      Bottleneck-207            [-1, 576, 8, 8]               0\n",
            "     BatchNorm2d-208            [-1, 576, 8, 8]           1,152\n",
            "            ReLU-209            [-1, 576, 8, 8]               0\n",
            "          Conv2d-210            [-1, 128, 8, 8]          73,728\n",
            "     BatchNorm2d-211            [-1, 128, 8, 8]             256\n",
            "            ReLU-212            [-1, 128, 8, 8]               0\n",
            "          Conv2d-213             [-1, 32, 8, 8]          36,864\n",
            "      Bottleneck-214            [-1, 608, 8, 8]               0\n",
            "     BatchNorm2d-215            [-1, 608, 8, 8]           1,216\n",
            "            ReLU-216            [-1, 608, 8, 8]               0\n",
            "          Conv2d-217            [-1, 128, 8, 8]          77,824\n",
            "     BatchNorm2d-218            [-1, 128, 8, 8]             256\n",
            "            ReLU-219            [-1, 128, 8, 8]               0\n",
            "          Conv2d-220             [-1, 32, 8, 8]          36,864\n",
            "      Bottleneck-221            [-1, 640, 8, 8]               0\n",
            "     BatchNorm2d-222            [-1, 640, 8, 8]           1,280\n",
            "            ReLU-223            [-1, 640, 8, 8]               0\n",
            "          Conv2d-224            [-1, 128, 8, 8]          81,920\n",
            "     BatchNorm2d-225            [-1, 128, 8, 8]             256\n",
            "            ReLU-226            [-1, 128, 8, 8]               0\n",
            "          Conv2d-227             [-1, 32, 8, 8]          36,864\n",
            "      Bottleneck-228            [-1, 672, 8, 8]               0\n",
            "     BatchNorm2d-229            [-1, 672, 8, 8]           1,344\n",
            "            ReLU-230            [-1, 672, 8, 8]               0\n",
            "          Conv2d-231            [-1, 128, 8, 8]          86,016\n",
            "     BatchNorm2d-232            [-1, 128, 8, 8]             256\n",
            "            ReLU-233            [-1, 128, 8, 8]               0\n",
            "          Conv2d-234             [-1, 32, 8, 8]          36,864\n",
            "      Bottleneck-235            [-1, 704, 8, 8]               0\n",
            "     BatchNorm2d-236            [-1, 704, 8, 8]           1,408\n",
            "            ReLU-237            [-1, 704, 8, 8]               0\n",
            "          Conv2d-238            [-1, 128, 8, 8]          90,112\n",
            "     BatchNorm2d-239            [-1, 128, 8, 8]             256\n",
            "            ReLU-240            [-1, 128, 8, 8]               0\n",
            "          Conv2d-241             [-1, 32, 8, 8]          36,864\n",
            "      Bottleneck-242            [-1, 736, 8, 8]               0\n",
            "     BatchNorm2d-243            [-1, 736, 8, 8]           1,472\n",
            "            ReLU-244            [-1, 736, 8, 8]               0\n",
            "          Conv2d-245            [-1, 128, 8, 8]          94,208\n",
            "     BatchNorm2d-246            [-1, 128, 8, 8]             256\n",
            "            ReLU-247            [-1, 128, 8, 8]               0\n",
            "          Conv2d-248             [-1, 32, 8, 8]          36,864\n",
            "      Bottleneck-249            [-1, 768, 8, 8]               0\n",
            "     BatchNorm2d-250            [-1, 768, 8, 8]           1,536\n",
            "            ReLU-251            [-1, 768, 8, 8]               0\n",
            "          Conv2d-252            [-1, 128, 8, 8]          98,304\n",
            "     BatchNorm2d-253            [-1, 128, 8, 8]             256\n",
            "            ReLU-254            [-1, 128, 8, 8]               0\n",
            "          Conv2d-255             [-1, 32, 8, 8]          36,864\n",
            "      Bottleneck-256            [-1, 800, 8, 8]               0\n",
            "     BatchNorm2d-257            [-1, 800, 8, 8]           1,600\n",
            "            ReLU-258            [-1, 800, 8, 8]               0\n",
            "          Conv2d-259            [-1, 128, 8, 8]         102,400\n",
            "     BatchNorm2d-260            [-1, 128, 8, 8]             256\n",
            "            ReLU-261            [-1, 128, 8, 8]               0\n",
            "          Conv2d-262             [-1, 32, 8, 8]          36,864\n",
            "      Bottleneck-263            [-1, 832, 8, 8]               0\n",
            "     BatchNorm2d-264            [-1, 832, 8, 8]           1,664\n",
            "            ReLU-265            [-1, 832, 8, 8]               0\n",
            "          Conv2d-266            [-1, 128, 8, 8]         106,496\n",
            "     BatchNorm2d-267            [-1, 128, 8, 8]             256\n",
            "            ReLU-268            [-1, 128, 8, 8]               0\n",
            "          Conv2d-269             [-1, 32, 8, 8]          36,864\n",
            "      Bottleneck-270            [-1, 864, 8, 8]               0\n",
            "     BatchNorm2d-271            [-1, 864, 8, 8]           1,728\n",
            "            ReLU-272            [-1, 864, 8, 8]               0\n",
            "          Conv2d-273            [-1, 128, 8, 8]         110,592\n",
            "     BatchNorm2d-274            [-1, 128, 8, 8]             256\n",
            "            ReLU-275            [-1, 128, 8, 8]               0\n",
            "          Conv2d-276             [-1, 32, 8, 8]          36,864\n",
            "      Bottleneck-277            [-1, 896, 8, 8]               0\n",
            "     BatchNorm2d-278            [-1, 896, 8, 8]           1,792\n",
            "            ReLU-279            [-1, 896, 8, 8]               0\n",
            "          Conv2d-280            [-1, 128, 8, 8]         114,688\n",
            "     BatchNorm2d-281            [-1, 128, 8, 8]             256\n",
            "            ReLU-282            [-1, 128, 8, 8]               0\n",
            "          Conv2d-283             [-1, 32, 8, 8]          36,864\n",
            "      Bottleneck-284            [-1, 928, 8, 8]               0\n",
            "     BatchNorm2d-285            [-1, 928, 8, 8]           1,856\n",
            "            ReLU-286            [-1, 928, 8, 8]               0\n",
            "          Conv2d-287            [-1, 128, 8, 8]         118,784\n",
            "     BatchNorm2d-288            [-1, 128, 8, 8]             256\n",
            "            ReLU-289            [-1, 128, 8, 8]               0\n",
            "          Conv2d-290             [-1, 32, 8, 8]          36,864\n",
            "      Bottleneck-291            [-1, 960, 8, 8]               0\n",
            "     BatchNorm2d-292            [-1, 960, 8, 8]           1,920\n",
            "            ReLU-293            [-1, 960, 8, 8]               0\n",
            "          Conv2d-294            [-1, 128, 8, 8]         122,880\n",
            "     BatchNorm2d-295            [-1, 128, 8, 8]             256\n",
            "            ReLU-296            [-1, 128, 8, 8]               0\n",
            "          Conv2d-297             [-1, 32, 8, 8]          36,864\n",
            "      Bottleneck-298            [-1, 992, 8, 8]               0\n",
            "     BatchNorm2d-299            [-1, 992, 8, 8]           1,984\n",
            "            ReLU-300            [-1, 992, 8, 8]               0\n",
            "          Conv2d-301            [-1, 128, 8, 8]         126,976\n",
            "     BatchNorm2d-302            [-1, 128, 8, 8]             256\n",
            "            ReLU-303            [-1, 128, 8, 8]               0\n",
            "          Conv2d-304             [-1, 32, 8, 8]          36,864\n",
            "      Bottleneck-305           [-1, 1024, 8, 8]               0\n",
            "     BatchNorm2d-306           [-1, 1024, 8, 8]           2,048\n",
            "            ReLU-307           [-1, 1024, 8, 8]               0\n",
            "          Conv2d-308            [-1, 512, 8, 8]         524,288\n",
            "       AvgPool2d-309            [-1, 512, 4, 4]               0\n",
            "      Transition-310            [-1, 512, 4, 4]               0\n",
            "     BatchNorm2d-311            [-1, 512, 4, 4]           1,024\n",
            "            ReLU-312            [-1, 512, 4, 4]               0\n",
            "          Conv2d-313            [-1, 128, 4, 4]          65,536\n",
            "     BatchNorm2d-314            [-1, 128, 4, 4]             256\n",
            "            ReLU-315            [-1, 128, 4, 4]               0\n",
            "          Conv2d-316             [-1, 32, 4, 4]          36,864\n",
            "      Bottleneck-317            [-1, 544, 4, 4]               0\n",
            "     BatchNorm2d-318            [-1, 544, 4, 4]           1,088\n",
            "            ReLU-319            [-1, 544, 4, 4]               0\n",
            "          Conv2d-320            [-1, 128, 4, 4]          69,632\n",
            "     BatchNorm2d-321            [-1, 128, 4, 4]             256\n",
            "            ReLU-322            [-1, 128, 4, 4]               0\n",
            "          Conv2d-323             [-1, 32, 4, 4]          36,864\n",
            "      Bottleneck-324            [-1, 576, 4, 4]               0\n",
            "     BatchNorm2d-325            [-1, 576, 4, 4]           1,152\n",
            "            ReLU-326            [-1, 576, 4, 4]               0\n",
            "          Conv2d-327            [-1, 128, 4, 4]          73,728\n",
            "     BatchNorm2d-328            [-1, 128, 4, 4]             256\n",
            "            ReLU-329            [-1, 128, 4, 4]               0\n",
            "          Conv2d-330             [-1, 32, 4, 4]          36,864\n",
            "      Bottleneck-331            [-1, 608, 4, 4]               0\n",
            "     BatchNorm2d-332            [-1, 608, 4, 4]           1,216\n",
            "            ReLU-333            [-1, 608, 4, 4]               0\n",
            "          Conv2d-334            [-1, 128, 4, 4]          77,824\n",
            "     BatchNorm2d-335            [-1, 128, 4, 4]             256\n",
            "            ReLU-336            [-1, 128, 4, 4]               0\n",
            "          Conv2d-337             [-1, 32, 4, 4]          36,864\n",
            "      Bottleneck-338            [-1, 640, 4, 4]               0\n",
            "     BatchNorm2d-339            [-1, 640, 4, 4]           1,280\n",
            "            ReLU-340            [-1, 640, 4, 4]               0\n",
            "          Conv2d-341            [-1, 128, 4, 4]          81,920\n",
            "     BatchNorm2d-342            [-1, 128, 4, 4]             256\n",
            "            ReLU-343            [-1, 128, 4, 4]               0\n",
            "          Conv2d-344             [-1, 32, 4, 4]          36,864\n",
            "      Bottleneck-345            [-1, 672, 4, 4]               0\n",
            "     BatchNorm2d-346            [-1, 672, 4, 4]           1,344\n",
            "            ReLU-347            [-1, 672, 4, 4]               0\n",
            "          Conv2d-348            [-1, 128, 4, 4]          86,016\n",
            "     BatchNorm2d-349            [-1, 128, 4, 4]             256\n",
            "            ReLU-350            [-1, 128, 4, 4]               0\n",
            "          Conv2d-351             [-1, 32, 4, 4]          36,864\n",
            "      Bottleneck-352            [-1, 704, 4, 4]               0\n",
            "     BatchNorm2d-353            [-1, 704, 4, 4]           1,408\n",
            "            ReLU-354            [-1, 704, 4, 4]               0\n",
            "          Conv2d-355            [-1, 128, 4, 4]          90,112\n",
            "     BatchNorm2d-356            [-1, 128, 4, 4]             256\n",
            "            ReLU-357            [-1, 128, 4, 4]               0\n",
            "          Conv2d-358             [-1, 32, 4, 4]          36,864\n",
            "      Bottleneck-359            [-1, 736, 4, 4]               0\n",
            "     BatchNorm2d-360            [-1, 736, 4, 4]           1,472\n",
            "            ReLU-361            [-1, 736, 4, 4]               0\n",
            "          Conv2d-362            [-1, 128, 4, 4]          94,208\n",
            "     BatchNorm2d-363            [-1, 128, 4, 4]             256\n",
            "            ReLU-364            [-1, 128, 4, 4]               0\n",
            "          Conv2d-365             [-1, 32, 4, 4]          36,864\n",
            "      Bottleneck-366            [-1, 768, 4, 4]               0\n",
            "     BatchNorm2d-367            [-1, 768, 4, 4]           1,536\n",
            "            ReLU-368            [-1, 768, 4, 4]               0\n",
            "          Conv2d-369            [-1, 128, 4, 4]          98,304\n",
            "     BatchNorm2d-370            [-1, 128, 4, 4]             256\n",
            "            ReLU-371            [-1, 128, 4, 4]               0\n",
            "          Conv2d-372             [-1, 32, 4, 4]          36,864\n",
            "      Bottleneck-373            [-1, 800, 4, 4]               0\n",
            "     BatchNorm2d-374            [-1, 800, 4, 4]           1,600\n",
            "            ReLU-375            [-1, 800, 4, 4]               0\n",
            "          Conv2d-376            [-1, 128, 4, 4]         102,400\n",
            "     BatchNorm2d-377            [-1, 128, 4, 4]             256\n",
            "            ReLU-378            [-1, 128, 4, 4]               0\n",
            "          Conv2d-379             [-1, 32, 4, 4]          36,864\n",
            "      Bottleneck-380            [-1, 832, 4, 4]               0\n",
            "     BatchNorm2d-381            [-1, 832, 4, 4]           1,664\n",
            "            ReLU-382            [-1, 832, 4, 4]               0\n",
            "          Conv2d-383            [-1, 128, 4, 4]         106,496\n",
            "     BatchNorm2d-384            [-1, 128, 4, 4]             256\n",
            "            ReLU-385            [-1, 128, 4, 4]               0\n",
            "          Conv2d-386             [-1, 32, 4, 4]          36,864\n",
            "      Bottleneck-387            [-1, 864, 4, 4]               0\n",
            "     BatchNorm2d-388            [-1, 864, 4, 4]           1,728\n",
            "            ReLU-389            [-1, 864, 4, 4]               0\n",
            "          Conv2d-390            [-1, 128, 4, 4]         110,592\n",
            "     BatchNorm2d-391            [-1, 128, 4, 4]             256\n",
            "            ReLU-392            [-1, 128, 4, 4]               0\n",
            "          Conv2d-393             [-1, 32, 4, 4]          36,864\n",
            "      Bottleneck-394            [-1, 896, 4, 4]               0\n",
            "     BatchNorm2d-395            [-1, 896, 4, 4]           1,792\n",
            "            ReLU-396            [-1, 896, 4, 4]               0\n",
            "          Conv2d-397            [-1, 128, 4, 4]         114,688\n",
            "     BatchNorm2d-398            [-1, 128, 4, 4]             256\n",
            "            ReLU-399            [-1, 128, 4, 4]               0\n",
            "          Conv2d-400             [-1, 32, 4, 4]          36,864\n",
            "      Bottleneck-401            [-1, 928, 4, 4]               0\n",
            "     BatchNorm2d-402            [-1, 928, 4, 4]           1,856\n",
            "            ReLU-403            [-1, 928, 4, 4]               0\n",
            "          Conv2d-404            [-1, 128, 4, 4]         118,784\n",
            "     BatchNorm2d-405            [-1, 128, 4, 4]             256\n",
            "            ReLU-406            [-1, 128, 4, 4]               0\n",
            "          Conv2d-407             [-1, 32, 4, 4]          36,864\n",
            "      Bottleneck-408            [-1, 960, 4, 4]               0\n",
            "     BatchNorm2d-409            [-1, 960, 4, 4]           1,920\n",
            "            ReLU-410            [-1, 960, 4, 4]               0\n",
            "          Conv2d-411            [-1, 128, 4, 4]         122,880\n",
            "     BatchNorm2d-412            [-1, 128, 4, 4]             256\n",
            "            ReLU-413            [-1, 128, 4, 4]               0\n",
            "          Conv2d-414             [-1, 32, 4, 4]          36,864\n",
            "      Bottleneck-415            [-1, 992, 4, 4]               0\n",
            "     BatchNorm2d-416            [-1, 992, 4, 4]           1,984\n",
            "            ReLU-417            [-1, 992, 4, 4]               0\n",
            "          Conv2d-418            [-1, 128, 4, 4]         126,976\n",
            "     BatchNorm2d-419            [-1, 128, 4, 4]             256\n",
            "            ReLU-420            [-1, 128, 4, 4]               0\n",
            "          Conv2d-421             [-1, 32, 4, 4]          36,864\n",
            "      Bottleneck-422           [-1, 1024, 4, 4]               0\n",
            "     BatchNorm2d-423           [-1, 1024, 4, 4]           2,048\n",
            "            ReLU-424           [-1, 1024, 4, 4]               0\n",
            "       AvgPool2d-425           [-1, 1024, 1, 1]               0\n",
            "          Linear-426                   [-1, 10]          10,250\n",
            "================================================================\n",
            "Total params: 6,956,298\n",
            "Trainable params: 6,956,298\n",
            "Non-trainable params: 0\n",
            "----------------------------------------------------------------\n",
            "Input size (MB): 0.01\n",
            "Forward/backward pass size (MB): 115.98\n",
            "Params size (MB): 26.54\n",
            "Estimated Total Size (MB): 142.52\n",
            "----------------------------------------------------------------\n"
          ]
        }
      ]
    },
    {
      "cell_type": "code",
      "source": [
        "print(net)"
      ],
      "metadata": {
        "colab": {
          "base_uri": "https://localhost:8080/"
        },
        "id": "WYnnZF1MVxD0",
        "outputId": "92ba61b2-8b61-4a4d-e75d-2d39ee3a9c3f"
      },
      "execution_count": null,
      "outputs": [
        {
          "output_type": "stream",
          "name": "stdout",
          "text": [
            "DenseNet(\n",
            "  (features): Conv2d(3, 64, kernel_size=(3, 3), stride=(1, 1), padding=(1, 1), bias=False)\n",
            "  (layer1): Sequential(\n",
            "    (0): Bottleneck(\n",
            "      (features): Sequential(\n",
            "        (0): BatchNorm2d(64, eps=1e-05, momentum=0.1, affine=True, track_running_stats=True)\n",
            "        (1): ReLU(inplace=True)\n",
            "        (2): Conv2d(64, 128, kernel_size=(1, 1), stride=(1, 1), bias=False)\n",
            "        (3): BatchNorm2d(128, eps=1e-05, momentum=0.1, affine=True, track_running_stats=True)\n",
            "        (4): ReLU(inplace=True)\n",
            "        (5): Conv2d(128, 32, kernel_size=(3, 3), stride=(1, 1), padding=(1, 1), bias=False)\n",
            "      )\n",
            "    )\n",
            "    (1): Bottleneck(\n",
            "      (features): Sequential(\n",
            "        (0): BatchNorm2d(96, eps=1e-05, momentum=0.1, affine=True, track_running_stats=True)\n",
            "        (1): ReLU(inplace=True)\n",
            "        (2): Conv2d(96, 128, kernel_size=(1, 1), stride=(1, 1), bias=False)\n",
            "        (3): BatchNorm2d(128, eps=1e-05, momentum=0.1, affine=True, track_running_stats=True)\n",
            "        (4): ReLU(inplace=True)\n",
            "        (5): Conv2d(128, 32, kernel_size=(3, 3), stride=(1, 1), padding=(1, 1), bias=False)\n",
            "      )\n",
            "    )\n",
            "    (2): Bottleneck(\n",
            "      (features): Sequential(\n",
            "        (0): BatchNorm2d(128, eps=1e-05, momentum=0.1, affine=True, track_running_stats=True)\n",
            "        (1): ReLU(inplace=True)\n",
            "        (2): Conv2d(128, 128, kernel_size=(1, 1), stride=(1, 1), bias=False)\n",
            "        (3): BatchNorm2d(128, eps=1e-05, momentum=0.1, affine=True, track_running_stats=True)\n",
            "        (4): ReLU(inplace=True)\n",
            "        (5): Conv2d(128, 32, kernel_size=(3, 3), stride=(1, 1), padding=(1, 1), bias=False)\n",
            "      )\n",
            "    )\n",
            "    (3): Bottleneck(\n",
            "      (features): Sequential(\n",
            "        (0): BatchNorm2d(160, eps=1e-05, momentum=0.1, affine=True, track_running_stats=True)\n",
            "        (1): ReLU(inplace=True)\n",
            "        (2): Conv2d(160, 128, kernel_size=(1, 1), stride=(1, 1), bias=False)\n",
            "        (3): BatchNorm2d(128, eps=1e-05, momentum=0.1, affine=True, track_running_stats=True)\n",
            "        (4): ReLU(inplace=True)\n",
            "        (5): Conv2d(128, 32, kernel_size=(3, 3), stride=(1, 1), padding=(1, 1), bias=False)\n",
            "      )\n",
            "    )\n",
            "    (4): Bottleneck(\n",
            "      (features): Sequential(\n",
            "        (0): BatchNorm2d(192, eps=1e-05, momentum=0.1, affine=True, track_running_stats=True)\n",
            "        (1): ReLU(inplace=True)\n",
            "        (2): Conv2d(192, 128, kernel_size=(1, 1), stride=(1, 1), bias=False)\n",
            "        (3): BatchNorm2d(128, eps=1e-05, momentum=0.1, affine=True, track_running_stats=True)\n",
            "        (4): ReLU(inplace=True)\n",
            "        (5): Conv2d(128, 32, kernel_size=(3, 3), stride=(1, 1), padding=(1, 1), bias=False)\n",
            "      )\n",
            "    )\n",
            "    (5): Bottleneck(\n",
            "      (features): Sequential(\n",
            "        (0): BatchNorm2d(224, eps=1e-05, momentum=0.1, affine=True, track_running_stats=True)\n",
            "        (1): ReLU(inplace=True)\n",
            "        (2): Conv2d(224, 128, kernel_size=(1, 1), stride=(1, 1), bias=False)\n",
            "        (3): BatchNorm2d(128, eps=1e-05, momentum=0.1, affine=True, track_running_stats=True)\n",
            "        (4): ReLU(inplace=True)\n",
            "        (5): Conv2d(128, 32, kernel_size=(3, 3), stride=(1, 1), padding=(1, 1), bias=False)\n",
            "      )\n",
            "    )\n",
            "    (6): Transition(\n",
            "      (features): Sequential(\n",
            "        (0): BatchNorm2d(256, eps=1e-05, momentum=0.1, affine=True, track_running_stats=True)\n",
            "        (1): ReLU(inplace=True)\n",
            "        (2): Conv2d(256, 128, kernel_size=(1, 1), stride=(1, 1), bias=False)\n",
            "        (3): AvgPool2d(kernel_size=2, stride=2, padding=0)\n",
            "      )\n",
            "    )\n",
            "  )\n",
            "  (layer2): Sequential(\n",
            "    (0): Bottleneck(\n",
            "      (features): Sequential(\n",
            "        (0): BatchNorm2d(128, eps=1e-05, momentum=0.1, affine=True, track_running_stats=True)\n",
            "        (1): ReLU(inplace=True)\n",
            "        (2): Conv2d(128, 128, kernel_size=(1, 1), stride=(1, 1), bias=False)\n",
            "        (3): BatchNorm2d(128, eps=1e-05, momentum=0.1, affine=True, track_running_stats=True)\n",
            "        (4): ReLU(inplace=True)\n",
            "        (5): Conv2d(128, 32, kernel_size=(3, 3), stride=(1, 1), padding=(1, 1), bias=False)\n",
            "      )\n",
            "    )\n",
            "    (1): Bottleneck(\n",
            "      (features): Sequential(\n",
            "        (0): BatchNorm2d(160, eps=1e-05, momentum=0.1, affine=True, track_running_stats=True)\n",
            "        (1): ReLU(inplace=True)\n",
            "        (2): Conv2d(160, 128, kernel_size=(1, 1), stride=(1, 1), bias=False)\n",
            "        (3): BatchNorm2d(128, eps=1e-05, momentum=0.1, affine=True, track_running_stats=True)\n",
            "        (4): ReLU(inplace=True)\n",
            "        (5): Conv2d(128, 32, kernel_size=(3, 3), stride=(1, 1), padding=(1, 1), bias=False)\n",
            "      )\n",
            "    )\n",
            "    (2): Bottleneck(\n",
            "      (features): Sequential(\n",
            "        (0): BatchNorm2d(192, eps=1e-05, momentum=0.1, affine=True, track_running_stats=True)\n",
            "        (1): ReLU(inplace=True)\n",
            "        (2): Conv2d(192, 128, kernel_size=(1, 1), stride=(1, 1), bias=False)\n",
            "        (3): BatchNorm2d(128, eps=1e-05, momentum=0.1, affine=True, track_running_stats=True)\n",
            "        (4): ReLU(inplace=True)\n",
            "        (5): Conv2d(128, 32, kernel_size=(3, 3), stride=(1, 1), padding=(1, 1), bias=False)\n",
            "      )\n",
            "    )\n",
            "    (3): Bottleneck(\n",
            "      (features): Sequential(\n",
            "        (0): BatchNorm2d(224, eps=1e-05, momentum=0.1, affine=True, track_running_stats=True)\n",
            "        (1): ReLU(inplace=True)\n",
            "        (2): Conv2d(224, 128, kernel_size=(1, 1), stride=(1, 1), bias=False)\n",
            "        (3): BatchNorm2d(128, eps=1e-05, momentum=0.1, affine=True, track_running_stats=True)\n",
            "        (4): ReLU(inplace=True)\n",
            "        (5): Conv2d(128, 32, kernel_size=(3, 3), stride=(1, 1), padding=(1, 1), bias=False)\n",
            "      )\n",
            "    )\n",
            "    (4): Bottleneck(\n",
            "      (features): Sequential(\n",
            "        (0): BatchNorm2d(256, eps=1e-05, momentum=0.1, affine=True, track_running_stats=True)\n",
            "        (1): ReLU(inplace=True)\n",
            "        (2): Conv2d(256, 128, kernel_size=(1, 1), stride=(1, 1), bias=False)\n",
            "        (3): BatchNorm2d(128, eps=1e-05, momentum=0.1, affine=True, track_running_stats=True)\n",
            "        (4): ReLU(inplace=True)\n",
            "        (5): Conv2d(128, 32, kernel_size=(3, 3), stride=(1, 1), padding=(1, 1), bias=False)\n",
            "      )\n",
            "    )\n",
            "    (5): Bottleneck(\n",
            "      (features): Sequential(\n",
            "        (0): BatchNorm2d(288, eps=1e-05, momentum=0.1, affine=True, track_running_stats=True)\n",
            "        (1): ReLU(inplace=True)\n",
            "        (2): Conv2d(288, 128, kernel_size=(1, 1), stride=(1, 1), bias=False)\n",
            "        (3): BatchNorm2d(128, eps=1e-05, momentum=0.1, affine=True, track_running_stats=True)\n",
            "        (4): ReLU(inplace=True)\n",
            "        (5): Conv2d(128, 32, kernel_size=(3, 3), stride=(1, 1), padding=(1, 1), bias=False)\n",
            "      )\n",
            "    )\n",
            "    (6): Bottleneck(\n",
            "      (features): Sequential(\n",
            "        (0): BatchNorm2d(320, eps=1e-05, momentum=0.1, affine=True, track_running_stats=True)\n",
            "        (1): ReLU(inplace=True)\n",
            "        (2): Conv2d(320, 128, kernel_size=(1, 1), stride=(1, 1), bias=False)\n",
            "        (3): BatchNorm2d(128, eps=1e-05, momentum=0.1, affine=True, track_running_stats=True)\n",
            "        (4): ReLU(inplace=True)\n",
            "        (5): Conv2d(128, 32, kernel_size=(3, 3), stride=(1, 1), padding=(1, 1), bias=False)\n",
            "      )\n",
            "    )\n",
            "    (7): Bottleneck(\n",
            "      (features): Sequential(\n",
            "        (0): BatchNorm2d(352, eps=1e-05, momentum=0.1, affine=True, track_running_stats=True)\n",
            "        (1): ReLU(inplace=True)\n",
            "        (2): Conv2d(352, 128, kernel_size=(1, 1), stride=(1, 1), bias=False)\n",
            "        (3): BatchNorm2d(128, eps=1e-05, momentum=0.1, affine=True, track_running_stats=True)\n",
            "        (4): ReLU(inplace=True)\n",
            "        (5): Conv2d(128, 32, kernel_size=(3, 3), stride=(1, 1), padding=(1, 1), bias=False)\n",
            "      )\n",
            "    )\n",
            "    (8): Bottleneck(\n",
            "      (features): Sequential(\n",
            "        (0): BatchNorm2d(384, eps=1e-05, momentum=0.1, affine=True, track_running_stats=True)\n",
            "        (1): ReLU(inplace=True)\n",
            "        (2): Conv2d(384, 128, kernel_size=(1, 1), stride=(1, 1), bias=False)\n",
            "        (3): BatchNorm2d(128, eps=1e-05, momentum=0.1, affine=True, track_running_stats=True)\n",
            "        (4): ReLU(inplace=True)\n",
            "        (5): Conv2d(128, 32, kernel_size=(3, 3), stride=(1, 1), padding=(1, 1), bias=False)\n",
            "      )\n",
            "    )\n",
            "    (9): Bottleneck(\n",
            "      (features): Sequential(\n",
            "        (0): BatchNorm2d(416, eps=1e-05, momentum=0.1, affine=True, track_running_stats=True)\n",
            "        (1): ReLU(inplace=True)\n",
            "        (2): Conv2d(416, 128, kernel_size=(1, 1), stride=(1, 1), bias=False)\n",
            "        (3): BatchNorm2d(128, eps=1e-05, momentum=0.1, affine=True, track_running_stats=True)\n",
            "        (4): ReLU(inplace=True)\n",
            "        (5): Conv2d(128, 32, kernel_size=(3, 3), stride=(1, 1), padding=(1, 1), bias=False)\n",
            "      )\n",
            "    )\n",
            "    (10): Bottleneck(\n",
            "      (features): Sequential(\n",
            "        (0): BatchNorm2d(448, eps=1e-05, momentum=0.1, affine=True, track_running_stats=True)\n",
            "        (1): ReLU(inplace=True)\n",
            "        (2): Conv2d(448, 128, kernel_size=(1, 1), stride=(1, 1), bias=False)\n",
            "        (3): BatchNorm2d(128, eps=1e-05, momentum=0.1, affine=True, track_running_stats=True)\n",
            "        (4): ReLU(inplace=True)\n",
            "        (5): Conv2d(128, 32, kernel_size=(3, 3), stride=(1, 1), padding=(1, 1), bias=False)\n",
            "      )\n",
            "    )\n",
            "    (11): Bottleneck(\n",
            "      (features): Sequential(\n",
            "        (0): BatchNorm2d(480, eps=1e-05, momentum=0.1, affine=True, track_running_stats=True)\n",
            "        (1): ReLU(inplace=True)\n",
            "        (2): Conv2d(480, 128, kernel_size=(1, 1), stride=(1, 1), bias=False)\n",
            "        (3): BatchNorm2d(128, eps=1e-05, momentum=0.1, affine=True, track_running_stats=True)\n",
            "        (4): ReLU(inplace=True)\n",
            "        (5): Conv2d(128, 32, kernel_size=(3, 3), stride=(1, 1), padding=(1, 1), bias=False)\n",
            "      )\n",
            "    )\n",
            "    (12): Transition(\n",
            "      (features): Sequential(\n",
            "        (0): BatchNorm2d(512, eps=1e-05, momentum=0.1, affine=True, track_running_stats=True)\n",
            "        (1): ReLU(inplace=True)\n",
            "        (2): Conv2d(512, 256, kernel_size=(1, 1), stride=(1, 1), bias=False)\n",
            "        (3): AvgPool2d(kernel_size=2, stride=2, padding=0)\n",
            "      )\n",
            "    )\n",
            "  )\n",
            "  (layer3): Sequential(\n",
            "    (0): Bottleneck(\n",
            "      (features): Sequential(\n",
            "        (0): BatchNorm2d(256, eps=1e-05, momentum=0.1, affine=True, track_running_stats=True)\n",
            "        (1): ReLU(inplace=True)\n",
            "        (2): Conv2d(256, 128, kernel_size=(1, 1), stride=(1, 1), bias=False)\n",
            "        (3): BatchNorm2d(128, eps=1e-05, momentum=0.1, affine=True, track_running_stats=True)\n",
            "        (4): ReLU(inplace=True)\n",
            "        (5): Conv2d(128, 32, kernel_size=(3, 3), stride=(1, 1), padding=(1, 1), bias=False)\n",
            "      )\n",
            "    )\n",
            "    (1): Bottleneck(\n",
            "      (features): Sequential(\n",
            "        (0): BatchNorm2d(288, eps=1e-05, momentum=0.1, affine=True, track_running_stats=True)\n",
            "        (1): ReLU(inplace=True)\n",
            "        (2): Conv2d(288, 128, kernel_size=(1, 1), stride=(1, 1), bias=False)\n",
            "        (3): BatchNorm2d(128, eps=1e-05, momentum=0.1, affine=True, track_running_stats=True)\n",
            "        (4): ReLU(inplace=True)\n",
            "        (5): Conv2d(128, 32, kernel_size=(3, 3), stride=(1, 1), padding=(1, 1), bias=False)\n",
            "      )\n",
            "    )\n",
            "    (2): Bottleneck(\n",
            "      (features): Sequential(\n",
            "        (0): BatchNorm2d(320, eps=1e-05, momentum=0.1, affine=True, track_running_stats=True)\n",
            "        (1): ReLU(inplace=True)\n",
            "        (2): Conv2d(320, 128, kernel_size=(1, 1), stride=(1, 1), bias=False)\n",
            "        (3): BatchNorm2d(128, eps=1e-05, momentum=0.1, affine=True, track_running_stats=True)\n",
            "        (4): ReLU(inplace=True)\n",
            "        (5): Conv2d(128, 32, kernel_size=(3, 3), stride=(1, 1), padding=(1, 1), bias=False)\n",
            "      )\n",
            "    )\n",
            "    (3): Bottleneck(\n",
            "      (features): Sequential(\n",
            "        (0): BatchNorm2d(352, eps=1e-05, momentum=0.1, affine=True, track_running_stats=True)\n",
            "        (1): ReLU(inplace=True)\n",
            "        (2): Conv2d(352, 128, kernel_size=(1, 1), stride=(1, 1), bias=False)\n",
            "        (3): BatchNorm2d(128, eps=1e-05, momentum=0.1, affine=True, track_running_stats=True)\n",
            "        (4): ReLU(inplace=True)\n",
            "        (5): Conv2d(128, 32, kernel_size=(3, 3), stride=(1, 1), padding=(1, 1), bias=False)\n",
            "      )\n",
            "    )\n",
            "    (4): Bottleneck(\n",
            "      (features): Sequential(\n",
            "        (0): BatchNorm2d(384, eps=1e-05, momentum=0.1, affine=True, track_running_stats=True)\n",
            "        (1): ReLU(inplace=True)\n",
            "        (2): Conv2d(384, 128, kernel_size=(1, 1), stride=(1, 1), bias=False)\n",
            "        (3): BatchNorm2d(128, eps=1e-05, momentum=0.1, affine=True, track_running_stats=True)\n",
            "        (4): ReLU(inplace=True)\n",
            "        (5): Conv2d(128, 32, kernel_size=(3, 3), stride=(1, 1), padding=(1, 1), bias=False)\n",
            "      )\n",
            "    )\n",
            "    (5): Bottleneck(\n",
            "      (features): Sequential(\n",
            "        (0): BatchNorm2d(416, eps=1e-05, momentum=0.1, affine=True, track_running_stats=True)\n",
            "        (1): ReLU(inplace=True)\n",
            "        (2): Conv2d(416, 128, kernel_size=(1, 1), stride=(1, 1), bias=False)\n",
            "        (3): BatchNorm2d(128, eps=1e-05, momentum=0.1, affine=True, track_running_stats=True)\n",
            "        (4): ReLU(inplace=True)\n",
            "        (5): Conv2d(128, 32, kernel_size=(3, 3), stride=(1, 1), padding=(1, 1), bias=False)\n",
            "      )\n",
            "    )\n",
            "    (6): Bottleneck(\n",
            "      (features): Sequential(\n",
            "        (0): BatchNorm2d(448, eps=1e-05, momentum=0.1, affine=True, track_running_stats=True)\n",
            "        (1): ReLU(inplace=True)\n",
            "        (2): Conv2d(448, 128, kernel_size=(1, 1), stride=(1, 1), bias=False)\n",
            "        (3): BatchNorm2d(128, eps=1e-05, momentum=0.1, affine=True, track_running_stats=True)\n",
            "        (4): ReLU(inplace=True)\n",
            "        (5): Conv2d(128, 32, kernel_size=(3, 3), stride=(1, 1), padding=(1, 1), bias=False)\n",
            "      )\n",
            "    )\n",
            "    (7): Bottleneck(\n",
            "      (features): Sequential(\n",
            "        (0): BatchNorm2d(480, eps=1e-05, momentum=0.1, affine=True, track_running_stats=True)\n",
            "        (1): ReLU(inplace=True)\n",
            "        (2): Conv2d(480, 128, kernel_size=(1, 1), stride=(1, 1), bias=False)\n",
            "        (3): BatchNorm2d(128, eps=1e-05, momentum=0.1, affine=True, track_running_stats=True)\n",
            "        (4): ReLU(inplace=True)\n",
            "        (5): Conv2d(128, 32, kernel_size=(3, 3), stride=(1, 1), padding=(1, 1), bias=False)\n",
            "      )\n",
            "    )\n",
            "    (8): Bottleneck(\n",
            "      (features): Sequential(\n",
            "        (0): BatchNorm2d(512, eps=1e-05, momentum=0.1, affine=True, track_running_stats=True)\n",
            "        (1): ReLU(inplace=True)\n",
            "        (2): Conv2d(512, 128, kernel_size=(1, 1), stride=(1, 1), bias=False)\n",
            "        (3): BatchNorm2d(128, eps=1e-05, momentum=0.1, affine=True, track_running_stats=True)\n",
            "        (4): ReLU(inplace=True)\n",
            "        (5): Conv2d(128, 32, kernel_size=(3, 3), stride=(1, 1), padding=(1, 1), bias=False)\n",
            "      )\n",
            "    )\n",
            "    (9): Bottleneck(\n",
            "      (features): Sequential(\n",
            "        (0): BatchNorm2d(544, eps=1e-05, momentum=0.1, affine=True, track_running_stats=True)\n",
            "        (1): ReLU(inplace=True)\n",
            "        (2): Conv2d(544, 128, kernel_size=(1, 1), stride=(1, 1), bias=False)\n",
            "        (3): BatchNorm2d(128, eps=1e-05, momentum=0.1, affine=True, track_running_stats=True)\n",
            "        (4): ReLU(inplace=True)\n",
            "        (5): Conv2d(128, 32, kernel_size=(3, 3), stride=(1, 1), padding=(1, 1), bias=False)\n",
            "      )\n",
            "    )\n",
            "    (10): Bottleneck(\n",
            "      (features): Sequential(\n",
            "        (0): BatchNorm2d(576, eps=1e-05, momentum=0.1, affine=True, track_running_stats=True)\n",
            "        (1): ReLU(inplace=True)\n",
            "        (2): Conv2d(576, 128, kernel_size=(1, 1), stride=(1, 1), bias=False)\n",
            "        (3): BatchNorm2d(128, eps=1e-05, momentum=0.1, affine=True, track_running_stats=True)\n",
            "        (4): ReLU(inplace=True)\n",
            "        (5): Conv2d(128, 32, kernel_size=(3, 3), stride=(1, 1), padding=(1, 1), bias=False)\n",
            "      )\n",
            "    )\n",
            "    (11): Bottleneck(\n",
            "      (features): Sequential(\n",
            "        (0): BatchNorm2d(608, eps=1e-05, momentum=0.1, affine=True, track_running_stats=True)\n",
            "        (1): ReLU(inplace=True)\n",
            "        (2): Conv2d(608, 128, kernel_size=(1, 1), stride=(1, 1), bias=False)\n",
            "        (3): BatchNorm2d(128, eps=1e-05, momentum=0.1, affine=True, track_running_stats=True)\n",
            "        (4): ReLU(inplace=True)\n",
            "        (5): Conv2d(128, 32, kernel_size=(3, 3), stride=(1, 1), padding=(1, 1), bias=False)\n",
            "      )\n",
            "    )\n",
            "    (12): Bottleneck(\n",
            "      (features): Sequential(\n",
            "        (0): BatchNorm2d(640, eps=1e-05, momentum=0.1, affine=True, track_running_stats=True)\n",
            "        (1): ReLU(inplace=True)\n",
            "        (2): Conv2d(640, 128, kernel_size=(1, 1), stride=(1, 1), bias=False)\n",
            "        (3): BatchNorm2d(128, eps=1e-05, momentum=0.1, affine=True, track_running_stats=True)\n",
            "        (4): ReLU(inplace=True)\n",
            "        (5): Conv2d(128, 32, kernel_size=(3, 3), stride=(1, 1), padding=(1, 1), bias=False)\n",
            "      )\n",
            "    )\n",
            "    (13): Bottleneck(\n",
            "      (features): Sequential(\n",
            "        (0): BatchNorm2d(672, eps=1e-05, momentum=0.1, affine=True, track_running_stats=True)\n",
            "        (1): ReLU(inplace=True)\n",
            "        (2): Conv2d(672, 128, kernel_size=(1, 1), stride=(1, 1), bias=False)\n",
            "        (3): BatchNorm2d(128, eps=1e-05, momentum=0.1, affine=True, track_running_stats=True)\n",
            "        (4): ReLU(inplace=True)\n",
            "        (5): Conv2d(128, 32, kernel_size=(3, 3), stride=(1, 1), padding=(1, 1), bias=False)\n",
            "      )\n",
            "    )\n",
            "    (14): Bottleneck(\n",
            "      (features): Sequential(\n",
            "        (0): BatchNorm2d(704, eps=1e-05, momentum=0.1, affine=True, track_running_stats=True)\n",
            "        (1): ReLU(inplace=True)\n",
            "        (2): Conv2d(704, 128, kernel_size=(1, 1), stride=(1, 1), bias=False)\n",
            "        (3): BatchNorm2d(128, eps=1e-05, momentum=0.1, affine=True, track_running_stats=True)\n",
            "        (4): ReLU(inplace=True)\n",
            "        (5): Conv2d(128, 32, kernel_size=(3, 3), stride=(1, 1), padding=(1, 1), bias=False)\n",
            "      )\n",
            "    )\n",
            "    (15): Bottleneck(\n",
            "      (features): Sequential(\n",
            "        (0): BatchNorm2d(736, eps=1e-05, momentum=0.1, affine=True, track_running_stats=True)\n",
            "        (1): ReLU(inplace=True)\n",
            "        (2): Conv2d(736, 128, kernel_size=(1, 1), stride=(1, 1), bias=False)\n",
            "        (3): BatchNorm2d(128, eps=1e-05, momentum=0.1, affine=True, track_running_stats=True)\n",
            "        (4): ReLU(inplace=True)\n",
            "        (5): Conv2d(128, 32, kernel_size=(3, 3), stride=(1, 1), padding=(1, 1), bias=False)\n",
            "      )\n",
            "    )\n",
            "    (16): Bottleneck(\n",
            "      (features): Sequential(\n",
            "        (0): BatchNorm2d(768, eps=1e-05, momentum=0.1, affine=True, track_running_stats=True)\n",
            "        (1): ReLU(inplace=True)\n",
            "        (2): Conv2d(768, 128, kernel_size=(1, 1), stride=(1, 1), bias=False)\n",
            "        (3): BatchNorm2d(128, eps=1e-05, momentum=0.1, affine=True, track_running_stats=True)\n",
            "        (4): ReLU(inplace=True)\n",
            "        (5): Conv2d(128, 32, kernel_size=(3, 3), stride=(1, 1), padding=(1, 1), bias=False)\n",
            "      )\n",
            "    )\n",
            "    (17): Bottleneck(\n",
            "      (features): Sequential(\n",
            "        (0): BatchNorm2d(800, eps=1e-05, momentum=0.1, affine=True, track_running_stats=True)\n",
            "        (1): ReLU(inplace=True)\n",
            "        (2): Conv2d(800, 128, kernel_size=(1, 1), stride=(1, 1), bias=False)\n",
            "        (3): BatchNorm2d(128, eps=1e-05, momentum=0.1, affine=True, track_running_stats=True)\n",
            "        (4): ReLU(inplace=True)\n",
            "        (5): Conv2d(128, 32, kernel_size=(3, 3), stride=(1, 1), padding=(1, 1), bias=False)\n",
            "      )\n",
            "    )\n",
            "    (18): Bottleneck(\n",
            "      (features): Sequential(\n",
            "        (0): BatchNorm2d(832, eps=1e-05, momentum=0.1, affine=True, track_running_stats=True)\n",
            "        (1): ReLU(inplace=True)\n",
            "        (2): Conv2d(832, 128, kernel_size=(1, 1), stride=(1, 1), bias=False)\n",
            "        (3): BatchNorm2d(128, eps=1e-05, momentum=0.1, affine=True, track_running_stats=True)\n",
            "        (4): ReLU(inplace=True)\n",
            "        (5): Conv2d(128, 32, kernel_size=(3, 3), stride=(1, 1), padding=(1, 1), bias=False)\n",
            "      )\n",
            "    )\n",
            "    (19): Bottleneck(\n",
            "      (features): Sequential(\n",
            "        (0): BatchNorm2d(864, eps=1e-05, momentum=0.1, affine=True, track_running_stats=True)\n",
            "        (1): ReLU(inplace=True)\n",
            "        (2): Conv2d(864, 128, kernel_size=(1, 1), stride=(1, 1), bias=False)\n",
            "        (3): BatchNorm2d(128, eps=1e-05, momentum=0.1, affine=True, track_running_stats=True)\n",
            "        (4): ReLU(inplace=True)\n",
            "        (5): Conv2d(128, 32, kernel_size=(3, 3), stride=(1, 1), padding=(1, 1), bias=False)\n",
            "      )\n",
            "    )\n",
            "    (20): Bottleneck(\n",
            "      (features): Sequential(\n",
            "        (0): BatchNorm2d(896, eps=1e-05, momentum=0.1, affine=True, track_running_stats=True)\n",
            "        (1): ReLU(inplace=True)\n",
            "        (2): Conv2d(896, 128, kernel_size=(1, 1), stride=(1, 1), bias=False)\n",
            "        (3): BatchNorm2d(128, eps=1e-05, momentum=0.1, affine=True, track_running_stats=True)\n",
            "        (4): ReLU(inplace=True)\n",
            "        (5): Conv2d(128, 32, kernel_size=(3, 3), stride=(1, 1), padding=(1, 1), bias=False)\n",
            "      )\n",
            "    )\n",
            "    (21): Bottleneck(\n",
            "      (features): Sequential(\n",
            "        (0): BatchNorm2d(928, eps=1e-05, momentum=0.1, affine=True, track_running_stats=True)\n",
            "        (1): ReLU(inplace=True)\n",
            "        (2): Conv2d(928, 128, kernel_size=(1, 1), stride=(1, 1), bias=False)\n",
            "        (3): BatchNorm2d(128, eps=1e-05, momentum=0.1, affine=True, track_running_stats=True)\n",
            "        (4): ReLU(inplace=True)\n",
            "        (5): Conv2d(128, 32, kernel_size=(3, 3), stride=(1, 1), padding=(1, 1), bias=False)\n",
            "      )\n",
            "    )\n",
            "    (22): Bottleneck(\n",
            "      (features): Sequential(\n",
            "        (0): BatchNorm2d(960, eps=1e-05, momentum=0.1, affine=True, track_running_stats=True)\n",
            "        (1): ReLU(inplace=True)\n",
            "        (2): Conv2d(960, 128, kernel_size=(1, 1), stride=(1, 1), bias=False)\n",
            "        (3): BatchNorm2d(128, eps=1e-05, momentum=0.1, affine=True, track_running_stats=True)\n",
            "        (4): ReLU(inplace=True)\n",
            "        (5): Conv2d(128, 32, kernel_size=(3, 3), stride=(1, 1), padding=(1, 1), bias=False)\n",
            "      )\n",
            "    )\n",
            "    (23): Bottleneck(\n",
            "      (features): Sequential(\n",
            "        (0): BatchNorm2d(992, eps=1e-05, momentum=0.1, affine=True, track_running_stats=True)\n",
            "        (1): ReLU(inplace=True)\n",
            "        (2): Conv2d(992, 128, kernel_size=(1, 1), stride=(1, 1), bias=False)\n",
            "        (3): BatchNorm2d(128, eps=1e-05, momentum=0.1, affine=True, track_running_stats=True)\n",
            "        (4): ReLU(inplace=True)\n",
            "        (5): Conv2d(128, 32, kernel_size=(3, 3), stride=(1, 1), padding=(1, 1), bias=False)\n",
            "      )\n",
            "    )\n",
            "    (24): Transition(\n",
            "      (features): Sequential(\n",
            "        (0): BatchNorm2d(1024, eps=1e-05, momentum=0.1, affine=True, track_running_stats=True)\n",
            "        (1): ReLU(inplace=True)\n",
            "        (2): Conv2d(1024, 512, kernel_size=(1, 1), stride=(1, 1), bias=False)\n",
            "        (3): AvgPool2d(kernel_size=2, stride=2, padding=0)\n",
            "      )\n",
            "    )\n",
            "  )\n",
            "  (layer4): Sequential(\n",
            "    (0): Bottleneck(\n",
            "      (features): Sequential(\n",
            "        (0): BatchNorm2d(512, eps=1e-05, momentum=0.1, affine=True, track_running_stats=True)\n",
            "        (1): ReLU(inplace=True)\n",
            "        (2): Conv2d(512, 128, kernel_size=(1, 1), stride=(1, 1), bias=False)\n",
            "        (3): BatchNorm2d(128, eps=1e-05, momentum=0.1, affine=True, track_running_stats=True)\n",
            "        (4): ReLU(inplace=True)\n",
            "        (5): Conv2d(128, 32, kernel_size=(3, 3), stride=(1, 1), padding=(1, 1), bias=False)\n",
            "      )\n",
            "    )\n",
            "    (1): Bottleneck(\n",
            "      (features): Sequential(\n",
            "        (0): BatchNorm2d(544, eps=1e-05, momentum=0.1, affine=True, track_running_stats=True)\n",
            "        (1): ReLU(inplace=True)\n",
            "        (2): Conv2d(544, 128, kernel_size=(1, 1), stride=(1, 1), bias=False)\n",
            "        (3): BatchNorm2d(128, eps=1e-05, momentum=0.1, affine=True, track_running_stats=True)\n",
            "        (4): ReLU(inplace=True)\n",
            "        (5): Conv2d(128, 32, kernel_size=(3, 3), stride=(1, 1), padding=(1, 1), bias=False)\n",
            "      )\n",
            "    )\n",
            "    (2): Bottleneck(\n",
            "      (features): Sequential(\n",
            "        (0): BatchNorm2d(576, eps=1e-05, momentum=0.1, affine=True, track_running_stats=True)\n",
            "        (1): ReLU(inplace=True)\n",
            "        (2): Conv2d(576, 128, kernel_size=(1, 1), stride=(1, 1), bias=False)\n",
            "        (3): BatchNorm2d(128, eps=1e-05, momentum=0.1, affine=True, track_running_stats=True)\n",
            "        (4): ReLU(inplace=True)\n",
            "        (5): Conv2d(128, 32, kernel_size=(3, 3), stride=(1, 1), padding=(1, 1), bias=False)\n",
            "      )\n",
            "    )\n",
            "    (3): Bottleneck(\n",
            "      (features): Sequential(\n",
            "        (0): BatchNorm2d(608, eps=1e-05, momentum=0.1, affine=True, track_running_stats=True)\n",
            "        (1): ReLU(inplace=True)\n",
            "        (2): Conv2d(608, 128, kernel_size=(1, 1), stride=(1, 1), bias=False)\n",
            "        (3): BatchNorm2d(128, eps=1e-05, momentum=0.1, affine=True, track_running_stats=True)\n",
            "        (4): ReLU(inplace=True)\n",
            "        (5): Conv2d(128, 32, kernel_size=(3, 3), stride=(1, 1), padding=(1, 1), bias=False)\n",
            "      )\n",
            "    )\n",
            "    (4): Bottleneck(\n",
            "      (features): Sequential(\n",
            "        (0): BatchNorm2d(640, eps=1e-05, momentum=0.1, affine=True, track_running_stats=True)\n",
            "        (1): ReLU(inplace=True)\n",
            "        (2): Conv2d(640, 128, kernel_size=(1, 1), stride=(1, 1), bias=False)\n",
            "        (3): BatchNorm2d(128, eps=1e-05, momentum=0.1, affine=True, track_running_stats=True)\n",
            "        (4): ReLU(inplace=True)\n",
            "        (5): Conv2d(128, 32, kernel_size=(3, 3), stride=(1, 1), padding=(1, 1), bias=False)\n",
            "      )\n",
            "    )\n",
            "    (5): Bottleneck(\n",
            "      (features): Sequential(\n",
            "        (0): BatchNorm2d(672, eps=1e-05, momentum=0.1, affine=True, track_running_stats=True)\n",
            "        (1): ReLU(inplace=True)\n",
            "        (2): Conv2d(672, 128, kernel_size=(1, 1), stride=(1, 1), bias=False)\n",
            "        (3): BatchNorm2d(128, eps=1e-05, momentum=0.1, affine=True, track_running_stats=True)\n",
            "        (4): ReLU(inplace=True)\n",
            "        (5): Conv2d(128, 32, kernel_size=(3, 3), stride=(1, 1), padding=(1, 1), bias=False)\n",
            "      )\n",
            "    )\n",
            "    (6): Bottleneck(\n",
            "      (features): Sequential(\n",
            "        (0): BatchNorm2d(704, eps=1e-05, momentum=0.1, affine=True, track_running_stats=True)\n",
            "        (1): ReLU(inplace=True)\n",
            "        (2): Conv2d(704, 128, kernel_size=(1, 1), stride=(1, 1), bias=False)\n",
            "        (3): BatchNorm2d(128, eps=1e-05, momentum=0.1, affine=True, track_running_stats=True)\n",
            "        (4): ReLU(inplace=True)\n",
            "        (5): Conv2d(128, 32, kernel_size=(3, 3), stride=(1, 1), padding=(1, 1), bias=False)\n",
            "      )\n",
            "    )\n",
            "    (7): Bottleneck(\n",
            "      (features): Sequential(\n",
            "        (0): BatchNorm2d(736, eps=1e-05, momentum=0.1, affine=True, track_running_stats=True)\n",
            "        (1): ReLU(inplace=True)\n",
            "        (2): Conv2d(736, 128, kernel_size=(1, 1), stride=(1, 1), bias=False)\n",
            "        (3): BatchNorm2d(128, eps=1e-05, momentum=0.1, affine=True, track_running_stats=True)\n",
            "        (4): ReLU(inplace=True)\n",
            "        (5): Conv2d(128, 32, kernel_size=(3, 3), stride=(1, 1), padding=(1, 1), bias=False)\n",
            "      )\n",
            "    )\n",
            "    (8): Bottleneck(\n",
            "      (features): Sequential(\n",
            "        (0): BatchNorm2d(768, eps=1e-05, momentum=0.1, affine=True, track_running_stats=True)\n",
            "        (1): ReLU(inplace=True)\n",
            "        (2): Conv2d(768, 128, kernel_size=(1, 1), stride=(1, 1), bias=False)\n",
            "        (3): BatchNorm2d(128, eps=1e-05, momentum=0.1, affine=True, track_running_stats=True)\n",
            "        (4): ReLU(inplace=True)\n",
            "        (5): Conv2d(128, 32, kernel_size=(3, 3), stride=(1, 1), padding=(1, 1), bias=False)\n",
            "      )\n",
            "    )\n",
            "    (9): Bottleneck(\n",
            "      (features): Sequential(\n",
            "        (0): BatchNorm2d(800, eps=1e-05, momentum=0.1, affine=True, track_running_stats=True)\n",
            "        (1): ReLU(inplace=True)\n",
            "        (2): Conv2d(800, 128, kernel_size=(1, 1), stride=(1, 1), bias=False)\n",
            "        (3): BatchNorm2d(128, eps=1e-05, momentum=0.1, affine=True, track_running_stats=True)\n",
            "        (4): ReLU(inplace=True)\n",
            "        (5): Conv2d(128, 32, kernel_size=(3, 3), stride=(1, 1), padding=(1, 1), bias=False)\n",
            "      )\n",
            "    )\n",
            "    (10): Bottleneck(\n",
            "      (features): Sequential(\n",
            "        (0): BatchNorm2d(832, eps=1e-05, momentum=0.1, affine=True, track_running_stats=True)\n",
            "        (1): ReLU(inplace=True)\n",
            "        (2): Conv2d(832, 128, kernel_size=(1, 1), stride=(1, 1), bias=False)\n",
            "        (3): BatchNorm2d(128, eps=1e-05, momentum=0.1, affine=True, track_running_stats=True)\n",
            "        (4): ReLU(inplace=True)\n",
            "        (5): Conv2d(128, 32, kernel_size=(3, 3), stride=(1, 1), padding=(1, 1), bias=False)\n",
            "      )\n",
            "    )\n",
            "    (11): Bottleneck(\n",
            "      (features): Sequential(\n",
            "        (0): BatchNorm2d(864, eps=1e-05, momentum=0.1, affine=True, track_running_stats=True)\n",
            "        (1): ReLU(inplace=True)\n",
            "        (2): Conv2d(864, 128, kernel_size=(1, 1), stride=(1, 1), bias=False)\n",
            "        (3): BatchNorm2d(128, eps=1e-05, momentum=0.1, affine=True, track_running_stats=True)\n",
            "        (4): ReLU(inplace=True)\n",
            "        (5): Conv2d(128, 32, kernel_size=(3, 3), stride=(1, 1), padding=(1, 1), bias=False)\n",
            "      )\n",
            "    )\n",
            "    (12): Bottleneck(\n",
            "      (features): Sequential(\n",
            "        (0): BatchNorm2d(896, eps=1e-05, momentum=0.1, affine=True, track_running_stats=True)\n",
            "        (1): ReLU(inplace=True)\n",
            "        (2): Conv2d(896, 128, kernel_size=(1, 1), stride=(1, 1), bias=False)\n",
            "        (3): BatchNorm2d(128, eps=1e-05, momentum=0.1, affine=True, track_running_stats=True)\n",
            "        (4): ReLU(inplace=True)\n",
            "        (5): Conv2d(128, 32, kernel_size=(3, 3), stride=(1, 1), padding=(1, 1), bias=False)\n",
            "      )\n",
            "    )\n",
            "    (13): Bottleneck(\n",
            "      (features): Sequential(\n",
            "        (0): BatchNorm2d(928, eps=1e-05, momentum=0.1, affine=True, track_running_stats=True)\n",
            "        (1): ReLU(inplace=True)\n",
            "        (2): Conv2d(928, 128, kernel_size=(1, 1), stride=(1, 1), bias=False)\n",
            "        (3): BatchNorm2d(128, eps=1e-05, momentum=0.1, affine=True, track_running_stats=True)\n",
            "        (4): ReLU(inplace=True)\n",
            "        (5): Conv2d(128, 32, kernel_size=(3, 3), stride=(1, 1), padding=(1, 1), bias=False)\n",
            "      )\n",
            "    )\n",
            "    (14): Bottleneck(\n",
            "      (features): Sequential(\n",
            "        (0): BatchNorm2d(960, eps=1e-05, momentum=0.1, affine=True, track_running_stats=True)\n",
            "        (1): ReLU(inplace=True)\n",
            "        (2): Conv2d(960, 128, kernel_size=(1, 1), stride=(1, 1), bias=False)\n",
            "        (3): BatchNorm2d(128, eps=1e-05, momentum=0.1, affine=True, track_running_stats=True)\n",
            "        (4): ReLU(inplace=True)\n",
            "        (5): Conv2d(128, 32, kernel_size=(3, 3), stride=(1, 1), padding=(1, 1), bias=False)\n",
            "      )\n",
            "    )\n",
            "    (15): Bottleneck(\n",
            "      (features): Sequential(\n",
            "        (0): BatchNorm2d(992, eps=1e-05, momentum=0.1, affine=True, track_running_stats=True)\n",
            "        (1): ReLU(inplace=True)\n",
            "        (2): Conv2d(992, 128, kernel_size=(1, 1), stride=(1, 1), bias=False)\n",
            "        (3): BatchNorm2d(128, eps=1e-05, momentum=0.1, affine=True, track_running_stats=True)\n",
            "        (4): ReLU(inplace=True)\n",
            "        (5): Conv2d(128, 32, kernel_size=(3, 3), stride=(1, 1), padding=(1, 1), bias=False)\n",
            "      )\n",
            "    )\n",
            "  )\n",
            "  (avg_pool): Sequential(\n",
            "    (0): BatchNorm2d(1024, eps=1e-05, momentum=0.1, affine=True, track_running_stats=True)\n",
            "    (1): ReLU(inplace=True)\n",
            "    (2): AvgPool2d(kernel_size=4, stride=4, padding=0)\n",
            "  )\n",
            "  (classifier): Linear(in_features=1024, out_features=10, bias=True)\n",
            ")\n"
          ]
        }
      ]
    },
    {
      "cell_type": "code",
      "source": [
        "x = torch.randn(2, 3, 32, 32).to(device)\n",
        "y = net(x)\n",
        "print(y.shape)"
      ],
      "metadata": {
        "colab": {
          "base_uri": "https://localhost:8080/"
        },
        "id": "WxqeFWwHV6Gc",
        "outputId": "464dece3-1136-4756-f0ee-13d2efe95132"
      },
      "execution_count": null,
      "outputs": [
        {
          "output_type": "stream",
          "name": "stdout",
          "text": [
            "torch.Size([2, 10])\n"
          ]
        }
      ]
    },
    {
      "cell_type": "code",
      "source": [
        "net = densenet_cifar().to(device)\n",
        "if device == 'cuda':\n",
        "    net = nn.DataParallel(net)  \n",
        "    torch.backends.cudnn.benchmark = True "
      ],
      "metadata": {
        "id": "subegUTnV_y7"
      },
      "execution_count": null,
      "outputs": []
    },
    {
      "cell_type": "markdown",
      "source": [
        "Part 3: Loss Function and Optimization"
      ],
      "metadata": {
        "id": "JGSaa58LWSLi"
      }
    },
    {
      "cell_type": "code",
      "source": [
        "import torch.optim as optim\n",
        "optimizer = optim.SGD(net.parameters(), lr=1e-1, momentum=0.9, weight_decay=1e-4)\n",
        "criterion = nn.CrossEntropyLoss()\n",
        "# scheduler = optim.lr_scheduler.ReduceLROnPlateau(optimizer, 'min', factor=0.5,verbose=True,patience = 5,min_lr = 0.000001) # update lr\n",
        "scheduler = optim.lr_scheduler.MultiStepLR(optimizer, milestones=[10, 15], gamma=0.1)\n",
        "\n",
        "import time\n",
        "epoch = 20"
      ],
      "metadata": {
        "id": "VUkx1IYHWHlo"
      },
      "execution_count": null,
      "outputs": []
    },
    {
      "cell_type": "code",
      "source": [
        "import os\n",
        "if not os.path.exists('./model'):\n",
        "    os.makedirs('./model')\n",
        "else:\n",
        "    print('exist!')\n",
        "save_path = './model/Denset.pth'"
      ],
      "metadata": {
        "id": "pRLZGX_iWUEZ"
      },
      "execution_count": null,
      "outputs": []
    },
    {
      "cell_type": "markdown",
      "source": [
        "Part 4: Train"
      ],
      "metadata": {
        "id": "wQkV34mDe7z-"
      }
    },
    {
      "cell_type": "code",
      "source": [
        "from utils import train2\n",
        "from utils import plot_history\n",
        "Acc, Loss, Lr = train2(net, trainloader, testloader, epoch, optimizer, criterion, scheduler, save_path, verbose = True)"
      ],
      "metadata": {
        "colab": {
          "base_uri": "https://localhost:8080/"
        },
        "id": "MQ6gHxF2WaJi",
        "outputId": "b3458a76-82eb-486e-dca2-701e06ea07f0"
      },
      "execution_count": null,
      "outputs": [
        {
          "output_type": "stream",
          "name": "stderr",
          "text": [
            "/usr/local/lib/python3.7/dist-packages/torch/utils/data/dataloader.py:481: UserWarning: This DataLoader will create 8 worker processes in total. Our suggested max number of worker in current system is 2, which is smaller than what this DataLoader is going to create. Please be aware that excessive worker creation might get DataLoader running slow or even freeze, lower the worker number to avoid potential slowness/freeze if necessary.\n",
            "  cpuset_checked))\n"
          ]
        },
        {
          "output_type": "stream",
          "name": "stdout",
          "text": [
            "Epoch [  1/ 20]  Train Loss:1.458377  Train Acc:46.82% Test Loss:1.230144  Test Acc:56.85%  Learning Rate:0.100000\tTime 01:25\n",
            "Epoch [  2/ 20]  Train Loss:0.912826  Train Acc:67.40% Test Loss:0.787293  Test Acc:72.08%  Learning Rate:0.100000\tTime 01:22\n",
            "Epoch [  3/ 20]  Train Loss:0.695529  Train Acc:75.65% Test Loss:0.842282  Test Acc:71.67%  Learning Rate:0.100000\tTime 01:23\n",
            "Epoch [  4/ 20]  Train Loss:0.576693  Train Acc:80.01% Test Loss:0.648330  Test Acc:77.84%  Learning Rate:0.100000\tTime 01:22\n",
            "Epoch [  5/ 20]  Train Loss:0.505484  Train Acc:82.39% Test Loss:0.564463  Test Acc:80.67%  Learning Rate:0.100000\tTime 01:22\n",
            "Epoch [  6/ 20]  Train Loss:0.450149  Train Acc:84.18% Test Loss:0.510384  Test Acc:82.38%  Learning Rate:0.100000\tTime 01:22\n",
            "Epoch [  7/ 20]  Train Loss:0.421556  Train Acc:85.43% Test Loss:0.535721  Test Acc:81.62%  Learning Rate:0.100000\tTime 01:22\n",
            "Epoch [  8/ 20]  Train Loss:0.387670  Train Acc:86.62% Test Loss:0.503317  Test Acc:82.89%  Learning Rate:0.100000\tTime 01:22\n",
            "Epoch [  9/ 20]  Train Loss:0.359841  Train Acc:87.28% Test Loss:0.455958  Test Acc:84.09%  Learning Rate:0.100000\tTime 01:22\n",
            "Epoch [ 10/ 20]  Train Loss:0.345032  Train Acc:87.96% Test Loss:0.518581  Test Acc:82.65%  Learning Rate:0.100000\tTime 01:23\n",
            "Epoch [ 11/ 20]  Train Loss:0.239112  Train Acc:92.00% Test Loss:0.304258  Test Acc:89.67%  Learning Rate:0.010000\tTime 01:22\n",
            "Epoch [ 12/ 20]  Train Loss:0.201749  Train Acc:93.10% Test Loss:0.310624  Test Acc:89.44%  Learning Rate:0.010000\tTime 01:22\n",
            "Epoch [ 13/ 20]  Train Loss:0.188874  Train Acc:93.62% Test Loss:0.305213  Test Acc:89.71%  Learning Rate:0.010000\tTime 01:22\n",
            "Epoch [ 14/ 20]  Train Loss:0.179080  Train Acc:93.85% Test Loss:0.298013  Test Acc:89.82%  Learning Rate:0.010000\tTime 01:22\n",
            "Epoch [ 15/ 20]  Train Loss:0.167836  Train Acc:94.22% Test Loss:0.294781  Test Acc:90.22%  Learning Rate:0.010000\tTime 01:22\n",
            "Epoch [ 16/ 20]  Train Loss:0.152204  Train Acc:94.86% Test Loss:0.302152  Test Acc:90.08%  Learning Rate:0.001000\tTime 01:22\n",
            "Epoch [ 17/ 20]  Train Loss:0.148512  Train Acc:95.04% Test Loss:0.295348  Test Acc:90.13%  Learning Rate:0.001000\tTime 01:22\n",
            "Epoch [ 18/ 20]  Train Loss:0.148494  Train Acc:94.91% Test Loss:0.284635  Test Acc:90.60%  Learning Rate:0.001000\tTime 01:22\n",
            "Epoch [ 19/ 20]  Train Loss:0.146844  Train Acc:95.02% Test Loss:0.300247  Test Acc:90.09%  Learning Rate:0.001000\tTime 01:22\n",
            "Epoch [ 20/ 20]  Train Loss:0.143993  Train Acc:95.07% Test Loss:0.285499  Test Acc:90.55%  Learning Rate:0.001000\tTime 01:22\n"
          ]
        }
      ]
    },
    {
      "cell_type": "code",
      "source": [
        "plot_history(epoch ,Acc, Loss, Lr)"
      ],
      "metadata": {
        "colab": {
          "base_uri": "https://localhost:8080/",
          "height": 1000
        },
        "id": "APcRbRU0WdI8",
        "outputId": "75f3b622-fea2-4ff0-e70a-d953c03564ac"
      },
      "execution_count": null,
      "outputs": [
        {
          "output_type": "display_data",
          "data": {
            "text/plain": [
              "<Figure size 720x576 with 1 Axes>"
            ],
            "image/png": "[encoded data removed]"
          },
          "metadata": {
            "needs_background": "light"
          }
        },
        {
          "output_type": "display_data",
          "data": {
            "text/plain": [
              "<Figure size 720x576 with 1 Axes>"
            ],
            "image/png": "[encoded data removed]"
          },
          "metadata": {
            "needs_background": "light"
          }
        },
        {
          "output_type": "display_data",
          "data": {
            "text/plain": [
              "<Figure size 720x576 with 1 Axes>"
            ],
            "image/png": "[encoded data removed]"
          },
          "metadata": {
            "needs_background": "light"
          }
        }
      ]
    },
    {
      "cell_type": "markdown",
      "source": [
        "part 5: Test"
      ],
      "metadata": {
        "id": "pAHs60gfexz3"
      }
    },
    {
      "cell_type": "code",
      "source": [
        "correct = 0   \n",
        "total = 0     \n",
        "torch.cuda.empty_cache()\n",
        "net.eval()\n",
        "with torch.no_grad():\n",
        "    for data in testloader:  \n",
        "        images, labels = data\n",
        "        images = images.to(device)\n",
        "        labels = labels.to(device)\n",
        "        net.eval()  \n",
        "        if hasattr(torch.cuda, 'empty_cache'):\n",
        "            torch.cuda.empty_cache()\n",
        "        outputs = net(images)  \n",
        "\n",
        "        \n",
        "        _, predicted = torch.max(outputs.data, 1)\n",
        "        total += labels.size(0)          \n",
        "        correct += (predicted == labels).sum() \n",
        "\n",
        "    print('Accuracy of the network on the 10000 test images: %.2f %%' % (100 * correct / total))"
      ],
      "metadata": {
        "colab": {
          "base_uri": "https://localhost:8080/"
        },
        "id": "Kg1F91X0dtse",
        "outputId": "a3ad57f8-fb36-4ee2-d8d0-55b782daeab4"
      },
      "execution_count": null,
      "outputs": [
        {
          "output_type": "stream",
          "name": "stderr",
          "text": [
            "/usr/local/lib/python3.7/dist-packages/torch/utils/data/dataloader.py:481: UserWarning: This DataLoader will create 8 worker processes in total. Our suggested max number of worker in current system is 2, which is smaller than what this DataLoader is going to create. Please be aware that excessive worker creation might get DataLoader running slow or even freeze, lower the worker number to avoid potential slowness/freeze if necessary.\n",
            "  cpuset_checked))\n"
          ]
        },
        {
          "output_type": "stream",
          "name": "stdout",
          "text": [
            "Accuracy of the network on the 10000 test images: 89.95 %\n"
          ]
        }
      ]
    },
    {
      "cell_type": "code",
      "source": [
        ""
      ],
      "metadata": {
        "id": "OJawylagd9JN"
      },
      "execution_count": null,
      "outputs": []
    }
  ]
}